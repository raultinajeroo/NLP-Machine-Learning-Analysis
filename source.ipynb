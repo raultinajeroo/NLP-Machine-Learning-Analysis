{
  "cells": [
    {
      "cell_type": "markdown",
      "metadata": {
        "id": "view-in-github",
        "colab_type": "text"
      },
      "source": [
        "<a href=\"https://colab.research.google.com/github/raultinajeroo/NLP-Machine-Learning-Analysis/blob/main/source.ipynb\" target=\"_parent\"><img src=\"https://colab.research.google.com/assets/colab-badge.svg\" alt=\"Open In Colab\"/></a>"
      ]
    },
    {
      "cell_type": "markdown",
      "source": [
        "# 🤖 ***Machine Learning Project*** \n",
        "**Los Mineros:** Aaron Cardiel & Raul Tinajero\n",
        "\n",
        "\n",
        "---\n",
        "\n"
      ],
      "metadata": {
        "id": "0Npjm3O851Wr"
      }
    },
    {
      "cell_type": "markdown",
      "source": [
        "<a name=\"Introduction\"></a>\n",
        "# ***Introduction***\n",
        "\n",
        "\n",
        "In this study of Machine Learning models we'll make an analysis of the natural language processing capabilities of different types of models. We'll do so through the understanding of the disaster tweets datasets, which provide tweet data with the aim of determining if any given tweet is disaster related or not. We approach this task by utilizing TF-IDF in the preprocessing of data, and training and testing a variety of models with that preprocessed data, said models are: Logistic Regression, Random Forest, Support Vector Machines, Naïve Bayes, and two Convolutional Neural Networks. We also apply error visualization techniques to selected models in order to learn from the outcome of such training and improve upon the results. \n",
        "\n",
        "\n",
        "\n",
        "---\n",
        "\n"
      ],
      "metadata": {
        "id": "_WPdppGgLoLG"
      }
    },
    {
      "cell_type": "markdown",
      "source": [
        "# ***Index***\n",
        "1.   [**Introduction**](#Introduction)\n",
        "2.   **Preparation**\n",
        "  * [Libraries](#Libraries)\n",
        "  * [Data Visualization](#Visualization)\n",
        "  * [Data Preprocessing](#Preprocessing)\n",
        "3.  **Models**\n",
        "  * [Logistic Regression](#Introduction)\n",
        "  * [Random Forest](#Introduction)\n",
        "  * [Suppor Vector Machines](#Introduction)\n",
        "  * [Naïve Bayes](#Introduction)\n",
        "  * [Model 5: Convolutional Neural Network (One-Hot Encoded Location and Keyword Features)](#C)\n",
        "  * [Models](#Introduction)\n",
        "4.   [**Final Results**](#Results)\n",
        "5.   [**Conclusion**](#Conclusion)\n",
        "\n",
        "\n",
        "\n",
        "---\n",
        "\n",
        "\n"
      ],
      "metadata": {
        "id": "5YTZEZLXKkPE"
      }
    },
    {
      "cell_type": "markdown",
      "metadata": {
        "id": "Z9I9ONmotZjE"
      },
      "source": [
        "<a name=\"Preparation\"></a>\n",
        "# ***Preparation***"
      ]
    },
    {
      "cell_type": "markdown",
      "metadata": {
        "id": "RTmfInyd9fte"
      },
      "source": [
        "<a name=\"Libraries\"></a>\n",
        "## *Libraries*"
      ]
    },
    {
      "cell_type": "code",
      "execution_count": null,
      "metadata": {
        "id": "9IDnvFyas3rE"
      },
      "outputs": [],
      "source": [
        "import numpy as np\n",
        "import pandas as pd\n",
        "import tensorflow as tf\n",
        "from sklearn.model_selection import train_test_split\n",
        "from sklearn.metrics import confusion_matrix\n",
        "import re\n",
        "\n",
        "from matplotlib import pyplot as plt\n",
        "import seaborn as sns  # for nicer plots\n",
        "sns.set(style=\"darkgrid\")  # default style\n",
        "from tensorflow.keras.preprocessing.text import Tokenizer\n",
        "from tensorflow.keras.preprocessing.sequence import pad_sequences\n",
        "from tensorflow.keras.layers import Embedding, Input, Conv1D, GlobalMaxPooling1D, Concatenate, Dense, Dropout\n",
        "from tensorflow.keras.models import Model\n"
      ]
    },
    {
      "cell_type": "markdown",
      "metadata": {
        "id": "9EdWYW1ZDQph"
      },
      "source": [
        "\n",
        "## *Data + Method Set-up*"
      ]
    },
    {
      "cell_type": "code",
      "execution_count": null,
      "metadata": {
        "id": "KOPDWwAU23Nr"
      },
      "outputs": [],
      "source": [
        "import os\n",
        "for csv_file in ['train.csv', 'test.csv', 'sample_submission.csv']: # Avoids Re-run\n",
        "  if not os.path.isfile(csv_file):\n",
        "    from google.colab import files\n",
        "    files.upload()"
      ]
    },
    {
      "cell_type": "code",
      "execution_count": null,
      "metadata": {
        "colab": {
          "base_uri": "https://localhost:8080/"
        },
        "id": "4QweKK8htcN5",
        "outputId": "7f18a70b-26de-4839-9146-e84868dae734"
      },
      "outputs": [
        {
          "output_type": "stream",
          "name": "stdout",
          "text": [
            "Training count: 6851\n",
            "Validation count: 762\n",
            "Test count: 3263\n"
          ]
        }
      ],
      "source": [
        "train_data = pd.read_csv(\"train.csv\")\n",
        "X_test = pd.read_csv(\"test.csv\")\n",
        "\n",
        "X_train = train_data.iloc[:, :-1] # X is all columns but last\n",
        "Y_train = train_data.iloc[:, -1] # Y is only 'target' column\n",
        "X_train, X_train_val, Y_train, Y_train_val = train_test_split(X_train, Y_train, test_size=.1, train_size=.9, random_state=100)\n",
        "\n",
        "print(f\"Training count: {len(X_train)}\")\n",
        "print(f\"Validation count: {len(X_train_val)}\")\n",
        "print(f\"Test count: {len(X_test)}\")"
      ]
    },
    {
      "cell_type": "markdown",
      "source": [
        "### *create_csv()*\n",
        "Create CSV File for easy kaggle submission"
      ],
      "metadata": {
        "id": "JWd5xTHC-2Jy"
      }
    },
    {
      "cell_type": "code",
      "execution_count": null,
      "metadata": {
        "id": "LiZat80K2RGz"
      },
      "outputs": [],
      "source": [
        "def create_csv(prediction, file_name='submission'):\n",
        "  df = pd.DataFrame()\n",
        "  df['id'] = X_test['id']\n",
        "  df['target'] = prediction\n",
        "  df.to_csv(f'{file_name}.csv', index=False)"
      ]
    },
    {
      "cell_type": "markdown",
      "source": [
        "### *visualize_errors()*\n",
        "Make for simple error visualization for all models"
      ],
      "metadata": {
        "id": "DN1eQ4sA_JDr"
      }
    },
    {
      "cell_type": "code",
      "source": [
        "def prob_to_class(Y_pred_prob, threshold):\n",
        "  if len(Y_pred_prob.shape) == 1:\n",
        "    return (Y_pred_prob >= threshold).astype(int)\n",
        "  else:\n",
        "    return (Y_pred_prob[:, 1] >= threshold).astype(int)\n",
        "\n",
        "\n",
        "def visualize_errors(Y_true, Y_pred_prob, threshold, e_num=10, only_cm=False):\n",
        "  # Convert probability predictions to class predictions\n",
        "  Y_pred = prob_to_class(Y_pred_prob, threshold)\n",
        "\n",
        "  # Create a simple 2x2 confusion matrix for with Actual / Predicted Labels\n",
        "  print(\"CONFUSION MATRIX:\")\n",
        "  cm = pd.crosstab(Y_true, Y_pred, rownames=['Actual'], colnames=['Pred'])\n",
        "  cm.style\n",
        "  display(cm)\n",
        "\n",
        "  if not only_cm:\n",
        "    print(\"\\nERRORS:\")  # Get all error's information for display\n",
        "    error_df = pd.DataFrame()\n",
        "    mask = Y_true != Y_pred\n",
        "\n",
        "    error_df['Index'] = X_train_val[mask].index\n",
        "    error_df['Actual'] = Y_true[mask].values\n",
        "    error_df['Pred'] = Y_pred[mask]\n",
        "\n",
        "    if len(Y_pred_prob.shape) != 1:\n",
        "      error_indices = np.where(mask)[0]  # Get the indices where mask is True\n",
        "      error_df['Difference'] = np.abs(Y_pred_prob[error_indices, 1] - Y_true.iloc[error_indices].values)  # Calculate the difference between actual values and predicted probabilities using .iloc\n",
        "\n",
        "    error_df['Text'] = X_train_val[mask]['text'].values\n",
        "\n",
        "    pd.set_option('display.max_colwidth', None)  # Display all of the text\n",
        "    if len(Y_pred_prob.shape) != 1:\n",
        "      error_df = error_df.sort_values(by=['Difference'], ascending=False)\n",
        "\n",
        "    # Display a set number of error examples\n",
        "    error_df.style\n",
        "    display(error_df.head(e_num))\n"
      ],
      "metadata": {
        "id": "32sugYn37nIH"
      },
      "execution_count": null,
      "outputs": []
    },
    {
      "cell_type": "markdown",
      "source": [
        "### *score()*\n",
        "Calculate and output training and validation F1 scores"
      ],
      "metadata": {
        "id": "kneA_VPZ--ea"
      }
    },
    {
      "cell_type": "code",
      "execution_count": null,
      "metadata": {
        "id": "oeWe3zlG5tY1"
      },
      "outputs": [],
      "source": [
        "from sklearn.metrics import f1_score\n",
        "def score(model, X_t=X_train, X_v=X_train_val, predict=True): # For testing before submission\n",
        "  if predict:\n",
        "    X_t = model.predict(X_t)\n",
        "    X_v = model.predict(X_v)\n",
        "  train_score = f1_score(Y_train, X_t)\n",
        "  val_score = f1_score(Y_train_val, X_v)\n",
        "  print(f'Training accuracy: {train_score:.4f}')\n",
        "  print(f'Validation accuracy: {val_score:.4f}')"
      ]
    },
    {
      "cell_type": "code",
      "source": [
        "from sklearn.metrics import f1_score\n",
        "def probability_score(model, threshold, X_tr=None, X_v=None):\n",
        "  if X_tr is None or X_v is None:\n",
        "    X_tr, X_v, X_te = preprocess_data(X_train, X_train_val, X_test)\n",
        "  Y_t = model.predict_proba(X_tr)\n",
        "  Y_v = model.predict_proba(X_v)\n",
        "\n",
        "  train_score = f1_score(Y_train, prob_to_class(Y_t, threshold))\n",
        "  val_score = f1_score(Y_train_val, prob_to_class(Y_v, threshold))\n",
        "  print(f'Training accuracy: {train_score:.4f}')\n",
        "  print(f'Validation accuracy: {val_score:.4f}')"
      ],
      "metadata": {
        "id": "lzZMXHIP9uD9"
      },
      "execution_count": null,
      "outputs": []
    },
    {
      "cell_type": "markdown",
      "metadata": {
        "id": "zuS6rgBLC4EX"
      },
      "source": [
        "<a name=\"Visualization\"></a>\n",
        "## *Data Visualization*"
      ]
    },
    {
      "cell_type": "markdown",
      "metadata": {
        "id": "bk4Uvv0XQ-Ye"
      },
      "source": [
        "**Analyze keywords for both disaster and non-disaster tweets:**"
      ]
    },
    {
      "cell_type": "code",
      "execution_count": null,
      "metadata": {
        "colab": {
          "base_uri": "https://localhost:8080/",
          "height": 577
        },
        "id": "BZM2KWWDDwrr",
        "outputId": "2a85f4f0-27ea-4901-9fb5-af4afde11580"
      },
      "outputs": [
        {
          "output_type": "display_data",
          "data": {
            "text/plain": [
              "<Figure size 1500x500 with 2 Axes>"
            ],
            "image/png": "[encoded data removed]"
          },
          "metadata": {}
        }
      ],
      "source": [
        "keywords_disaster = X_train[Y_train == 1]['keyword'].value_counts().head(10)\n",
        "keywords_non_disaster = X_train[Y_train == 0]['keyword'].value_counts().head(10)\n",
        "\n",
        "plt.figure(figsize=(15, 5))\n",
        "\n",
        "plt.subplot(1, 2, 1)\n",
        "sns.barplot(x=keywords_disaster.index, y=keywords_disaster, palette='Reds_r')\n",
        "plt.title('Top Keywords for Disaster Tweets')\n",
        "plt.ylabel('Count')\n",
        "plt.xticks(rotation=45)\n",
        "\n",
        "plt.subplot(1, 2, 2)\n",
        "sns.barplot(x=keywords_non_disaster.index, y=keywords_non_disaster, palette='light:g_r')\n",
        "plt.title('Top Keywords for Non-Disaster Tweets')\n",
        "plt.ylabel('Count')\n",
        "plt.xticks(rotation=45)\n",
        "\n",
        "plt.show()"
      ]
    },
    {
      "cell_type": "markdown",
      "metadata": {
        "id": "50O9A6Vcj_4c"
      },
      "source": [
        "**Analyze hashtags for both disaster and non-disaster tweets:**"
      ]
    },
    {
      "cell_type": "code",
      "execution_count": null,
      "metadata": {
        "colab": {
          "base_uri": "https://localhost:8080/",
          "height": 533
        },
        "id": "NvdKZd5zj6YG",
        "outputId": "33f713a8-3995-4b91-fb2a-0ac5cdc19794"
      },
      "outputs": [
        {
          "output_type": "display_data",
          "data": {
            "text/plain": [
              "<Figure size 1500x500 with 2 Axes>"
            ],
            "image/png": "[encoded data removed]"
          },
          "metadata": {}
        }
      ],
      "source": [
        "def get_hashtags(tweet): # Get all words with a '#' before them; hashtags\n",
        "    return re.findall(r'#(\\w+)', tweet) # Finds words with '#' but avoids passing off the '#'\n",
        "\n",
        "hashtags_disaster = pd.Series([hashtag for hashtags in X_train[Y_train == 1]['text'].apply(get_hashtags) for hashtag in hashtags]).value_counts().head(10)\n",
        "hashtags_non_disaster = pd.Series([hashtag for hashtags in X_train[Y_train == 0]['text'].apply(get_hashtags) for hashtag in hashtags]).value_counts().head(10)\n",
        "\n",
        "plt.figure(figsize=(15, 5))\n",
        "\n",
        "plt.subplot(1, 2, 1)\n",
        "sns.barplot(x=hashtags_disaster.index, y=hashtags_disaster, palette='Reds_r')\n",
        "plt.title('Top Hashtags for Disaster Tweets')\n",
        "plt.ylabel('Count')\n",
        "plt.xticks(rotation=45)\n",
        "\n",
        "plt.subplot(1, 2, 2)\n",
        "sns.barplot(x=hashtags_non_disaster.index, y=hashtags_non_disaster, palette='light:g_r')\n",
        "plt.title('Top Hashtags for Non-Disaster Tweets')\n",
        "plt.ylabel('Count')\n",
        "plt.xticks(rotation=45)\n",
        "\n",
        "plt.show()"
      ]
    },
    {
      "cell_type": "markdown",
      "metadata": {
        "id": "OZP4dQd34EI5"
      },
      "source": [
        "**Analyzing data based on location:**"
      ]
    },
    {
      "cell_type": "code",
      "execution_count": null,
      "metadata": {
        "colab": {
          "base_uri": "https://localhost:8080/",
          "height": 496
        },
        "id": "Obwp-2uIuPum",
        "outputId": "175abe3b-f473-4395-d9bd-32826b95af99"
      },
      "outputs": [
        {
          "output_type": "display_data",
          "data": {
            "text/plain": [
              "<Figure size 1000x500 with 1 Axes>"
            ],
            "image/png": "[encoded data removed]"
          },
          "metadata": {}
        }
      ],
      "source": [
        "#Getting count of all disaster/non-disaster tweets that don't have location\n",
        "no_location_disaster_count = X_train[Y_train == 1]['location'].isna().sum()\n",
        "no_location_non_disaster_count = X_train[Y_train == 0]['location'].isna().sum()\n",
        "\n",
        "#Getting count of all disaster/non-disaster tweets that have a location\n",
        "location_disaster_count = X_train[Y_train == 1]['location'].count()\n",
        "location_non_disaster_count = X_train[Y_train == 0]['location'].count()\n",
        "\n",
        "location_data = {'Has location disaster': location_disaster_count, 'Has location non-disaster': location_non_disaster_count, 'No location disaster': no_location_disaster_count, 'No location non-disaster': no_location_non_disaster_count}\n",
        "fig = plt.figure(figsize = (10, 5))\n",
        " \n",
        "# creating the bar plot\n",
        "plt.bar(location_data.keys(), location_data.values(), color ='blue', width = 0.4)\n",
        "plt.xlabel(\"Category\")\n",
        "plt.ylabel(\"Count\")\n",
        "plt.title(\"Location for Disaster vs.Non-Disaster Tweets\")\n",
        "plt.show()"
      ]
    },
    {
      "cell_type": "markdown",
      "metadata": {
        "id": "ISUecM3l4MmY"
      },
      "source": [
        "**Analyzing data based on keyword**"
      ]
    },
    {
      "cell_type": "code",
      "execution_count": null,
      "metadata": {
        "colab": {
          "base_uri": "https://localhost:8080/",
          "height": 496
        },
        "id": "fZ6gMKoc4ZhZ",
        "outputId": "99eab1b8-250c-461f-a76e-cb03349f0b17"
      },
      "outputs": [
        {
          "output_type": "display_data",
          "data": {
            "text/plain": [
              "<Figure size 1000x500 with 1 Axes>"
            ],
            "image/png": "[encoded data removed]"
          },
          "metadata": {}
        }
      ],
      "source": [
        "#Getting count of all disaster/non-disaster tweets that don't have keyword\n",
        "no_keyword_disaster_count = X_train[Y_train == 1]['keyword'].isna().sum()\n",
        "no_keyword_non_disaster_count = X_train[Y_train == 0]['keyword'].isna().sum()\n",
        "\n",
        "#Getting count of all disaster/non-disaster tweets that have a keyword\n",
        "keyword_disaster_count = X_train[Y_train == 1]['keyword'].count()\n",
        "keyword_non_disaster_count = X_train[Y_train == 0]['keyword'].count()\n",
        "\n",
        "keyword_data = {'Has keyword disaster': keyword_disaster_count, 'Has keyword non-disaster': keyword_non_disaster_count, 'No keyword disaster': no_keyword_disaster_count, 'No keyword non-disaster': no_keyword_non_disaster_count}\n",
        "fig = plt.figure(figsize = (10, 5))\n",
        " \n",
        "# creating the bar plot\n",
        "plt.bar(keyword_data.keys(), keyword_data.values(), color ='blue', width = 0.4)\n",
        " \n",
        "plt.xlabel(\"Category\")\n",
        "plt.ylabel(\"Count\")\n",
        "plt.title(\"keyword for Disaster vs.Non-Disaster Tweets\")\n",
        "plt.show()"
      ]
    },
    {
      "cell_type": "markdown",
      "metadata": {
        "id": "MUmlKIo7dHvn"
      },
      "source": [
        "<a name=\"Preprocessing\"></a>\n",
        "## Data Preprocessing\n",
        "From testing it was found that ['text'] is the only reliable feature within the training and testing data. Which is why it's the only one kept for the models to learn from."
      ]
    },
    {
      "cell_type": "code",
      "source": [
        "!pip install contractions\n",
        "from sklearn.feature_extraction.text import TfidfVectorizer\n",
        "import nltk\n",
        "from nltk.tokenize import word_tokenize\n",
        "nltk.download('punkt')\n",
        "import contractions\n",
        "import copy"
      ],
      "metadata": {
        "id": "elG-38EW536z",
        "colab": {
          "base_uri": "https://localhost:8080/"
        },
        "outputId": "1e11653f-40bc-4f79-d332-be3b7295c331"
      },
      "execution_count": null,
      "outputs": [
        {
          "output_type": "stream",
          "name": "stdout",
          "text": [
            "Looking in indexes: https://pypi.org/simple, https://us-python.pkg.dev/colab-wheels/public/simple/\n",
            "Collecting contractions\n",
            "  Downloading contractions-0.1.73-py2.py3-none-any.whl (8.7 kB)\n",
            "Collecting textsearch>=0.0.21\n",
            "  Downloading textsearch-0.0.24-py2.py3-none-any.whl (7.6 kB)\n",
            "Collecting pyahocorasick\n",
            "  Downloading pyahocorasick-2.0.0-cp39-cp39-manylinux_2_5_x86_64.manylinux1_x86_64.whl (103 kB)\n",
            "\u001b[2K     \u001b[90m━━━━━━━━━━━━━━━━━━━━━━━━━━━━━━━━━━━━━━━\u001b[0m \u001b[32m103.2/103.2 kB\u001b[0m \u001b[31m5.7 MB/s\u001b[0m eta \u001b[36m0:00:00\u001b[0m\n",
            "\u001b[?25hCollecting anyascii\n",
            "  Downloading anyascii-0.3.2-py3-none-any.whl (289 kB)\n",
            "\u001b[2K     \u001b[90m━━━━━━━━━━━━━━━━━━━━━━━━━━━━━━━━━━━━━━\u001b[0m \u001b[32m289.9/289.9 kB\u001b[0m \u001b[31m11.7 MB/s\u001b[0m eta \u001b[36m0:00:00\u001b[0m\n",
            "\u001b[?25hInstalling collected packages: pyahocorasick, anyascii, textsearch, contractions\n",
            "Successfully installed anyascii-0.3.2 contractions-0.1.73 pyahocorasick-2.0.0 textsearch-0.0.24\n"
          ]
        },
        {
          "output_type": "stream",
          "name": "stderr",
          "text": [
            "[nltk_data] Downloading package punkt to /root/nltk_data...\n",
            "[nltk_data]   Unzipping tokenizers/punkt.zip.\n"
          ]
        }
      ]
    },
    {
      "cell_type": "code",
      "source": [
        "def clean_text(text: str):\n",
        "  text = str(text) # Helps make sure our input is in string format\n",
        "  text = re.sub(r'http\\S+|@\\S+|[^a-zA-Z\\s]', '', text) # Remove URLs, tags, and special characters\n",
        "  text = text.lower() # Convert text to lowercase\n",
        "  contractions.fix(text) # Fix contractions (\"you're\" to \"you are\", etc)\n",
        "  return word_tokenize(text) # Tokenizes sentences into a list of separate words and returns that list\n",
        "\n",
        "\n",
        "def preprocess_data(X_train, X_train_val, X_test):\n",
        "  # Deep copy dataframes to avoid modifying the original data\n",
        "  X_tr = copy.deepcopy(X_train)\n",
        "  X_v = copy.deepcopy(X_train_val)\n",
        "  X_te = copy.deepcopy(X_test)\n",
        "\n",
        "  # Clean text data\n",
        "  X_tr['text'] = X_train['text'].apply(clean_text)\n",
        "  X_v['text'] = X_train_val['text'].apply(clean_text)\n",
        "  X_te['text'] = X_test['text'].apply(clean_text)\n",
        "\n",
        "  # Vectorize data using TF-IDF\n",
        "  vectorizer = TfidfVectorizer(tokenizer=lambda x: x, preprocessor=lambda x: x)\n",
        "  X_tr = vectorizer.fit_transform(X_tr['text'])\n",
        "  X_v = vectorizer.transform(X_v['text'])\n",
        "  X_te = vectorizer.transform(X_te['text'])\n",
        "\n",
        "  return X_tr, X_v, X_te"
      ],
      "metadata": {
        "id": "_8HbTInAe1j0"
      },
      "execution_count": null,
      "outputs": []
    },
    {
      "cell_type": "code",
      "source": [
        "X_tr, X_v, X_te = preprocess_data(X_train, X_train_val, X_test)"
      ],
      "metadata": {
        "colab": {
          "base_uri": "https://localhost:8080/"
        },
        "id": "VZUuOIMwB3vf",
        "outputId": "e48fc418-e1cf-41cc-d4f5-d6d8b2e72b4c"
      },
      "execution_count": null,
      "outputs": [
        {
          "output_type": "stream",
          "name": "stderr",
          "text": [
            "/usr/local/lib/python3.9/dist-packages/sklearn/feature_extraction/text.py:528: UserWarning: The parameter 'token_pattern' will not be used since 'tokenizer' is not None'\n",
            "  warnings.warn(\n"
          ]
        }
      ]
    },
    {
      "cell_type": "markdown",
      "source": [
        "> Although we considered pre-processing at this step to make the data be prepared from the start, doing so would've affected the behavior of models 1.1 and 1.2 which played a key role in our early application of data preprocessing."
      ],
      "metadata": {
        "id": "_E0dzLKV_Ip9"
      }
    },
    {
      "cell_type": "markdown",
      "metadata": {
        "id": "Ts0f-qs4tc2V"
      },
      "source": [
        "<a name=\"Models\"></a>\n",
        "# ***Models***"
      ]
    },
    {
      "cell_type": "markdown",
      "metadata": {
        "id": "Ot3hR3MVACXN"
      },
      "source": [
        "<a name=\"Introduction\"></a>\n",
        "### ***Baseline***\n",
        "\n",
        "This baseline model uses DummyRegressor, to make constant predictions of 0 for all input data. It's designed to compare against the more advanced models in this document."
      ]
    },
    {
      "cell_type": "code",
      "execution_count": null,
      "metadata": {
        "id": "LKwsN3Qu7u-L"
      },
      "outputs": [],
      "source": [
        "from sklearn.dummy import DummyRegressor\n",
        "baseline = DummyRegressor(strategy='constant', constant=0) # Creates a baseline prediction of 0 for all tweets\n",
        "baseline.fit(X_train, Y_train)\n",
        "\n",
        "Y_pred = baseline.predict(X_test)"
      ]
    },
    {
      "cell_type": "code",
      "execution_count": null,
      "metadata": {
        "id": "dKB10Ms-GQK_",
        "colab": {
          "base_uri": "https://localhost:8080/"
        },
        "outputId": "3c7554e0-5230-4a77-855a-b32725725558"
      },
      "outputs": [
        {
          "output_type": "stream",
          "name": "stdout",
          "text": [
            "Training accuracy: 0.0000\n",
            "Validation accuracy: 0.0000\n"
          ]
        }
      ],
      "source": [
        "score(baseline) # Baseline evaluation on validation data"
      ]
    },
    {
      "cell_type": "markdown",
      "source": [
        "Kaggle Test Score:\n",
        "\n",
        "![image.png](data:image/png;base64,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)"
      ],
      "metadata": {
        "id": "OSmnYohBA13b"
      }
    },
    {
      "cell_type": "markdown",
      "metadata": {
        "id": "It59xE73cDy0"
      },
      "source": [
        "<a name=\"LR\"></a>\n",
        "### ***Model 1: Logistic Regression***\n",
        "Logistic Regression is a good model for this project as it performs well with binary classification problems."
      ]
    },
    {
      "cell_type": "code",
      "execution_count": null,
      "metadata": {
        "id": "oJCozB9cOwvs"
      },
      "outputs": [],
      "source": [
        "from sklearn.linear_model import LogisticRegression"
      ]
    },
    {
      "cell_type": "markdown",
      "source": [
        "#### **Model Versions**"
      ],
      "metadata": {
        "id": "Px-KUvRTLNal"
      }
    },
    {
      "cell_type": "markdown",
      "metadata": {
        "id": "gxmbbcDr5nQn"
      },
      "source": [
        "##### *1.1. Just Text*\n",
        "In this code only the text data is turned into a numerical format to be passed through our simple Logistic Regression Model. This model uses the default loss function for Logistic Regression: Log Loss. This is an appropriate application because it serves to measure the performance of the classification model by penalizing high confidence wrong predictions."
      ]
    },
    {
      "cell_type": "code",
      "execution_count": null,
      "metadata": {
        "id": "amKze1J82uoW",
        "colab": {
          "base_uri": "https://localhost:8080/"
        },
        "outputId": "497b1da0-9f5b-4fe8-9c15-d021acf5f578"
      },
      "outputs": [
        {
          "output_type": "stream",
          "name": "stdout",
          "text": [
            "Training accuracy: 0.8549\n",
            "Validation accuracy: 0.7638\n"
          ]
        }
      ],
      "source": [
        "vectorizer = TfidfVectorizer()\n",
        "\n",
        "X_train_vectorized = vectorizer.fit_transform(X_train['text'])\n",
        "X_train_val_vectorized = vectorizer.transform(X_train_val['text'])\n",
        "\n",
        "Model1_1 = LogisticRegression()\n",
        "\n",
        "Model1_1.fit(X_train_vectorized, Y_train)\n",
        "\n",
        "score(Model1_1, X_train_vectorized, X_train_val_vectorized)"
      ]
    },
    {
      "cell_type": "markdown",
      "metadata": {
        "id": "po35aofp57rR"
      },
      "source": [
        "##### *1.2. Combine all features*\n",
        "In this code we made the change to using all of the data provided and turning it into a numerical format to be passed through our simple Logistic Regression Model. This model uses the default loss function for Logistic Regression: Log Loss."
      ]
    },
    {
      "cell_type": "code",
      "execution_count": null,
      "metadata": {
        "id": "EeQpGMtIuchs",
        "colab": {
          "base_uri": "https://localhost:8080/"
        },
        "outputId": "8324f926-0fa6-43c3-bbe2-d1408e96fa69"
      },
      "outputs": [
        {
          "output_type": "stream",
          "name": "stdout",
          "text": [
            "Training accuracy: 0.8556\n",
            "Validation accuracy: 0.7607\n"
          ]
        }
      ],
      "source": [
        "vectorizer = TfidfVectorizer()\n",
        "Model1_2 = LogisticRegression()\n",
        "\n",
        "def combine_features1_2(X):\n",
        "  X['combined_text'] = X['keyword'].fillna('') + ' ' + X['location'].fillna('') + ' ' + X['text']\n",
        "\n",
        "combine_features1_2(X_train)\n",
        "combine_features1_2(X_train_val)\n",
        "\n",
        "X_train_vectorized = vectorizer.fit_transform(X_train['combined_text'])\n",
        "X_train_val_vectorized = vectorizer.transform(X_train_val['combined_text'])\n",
        "\n",
        "Model1_2.fit(X_train_vectorized, Y_train)\n",
        "\n",
        "score(Model1_2, X_train_vectorized, X_train_val_vectorized)"
      ]
    },
    {
      "cell_type": "markdown",
      "source": [
        "##### *1.3. Using Data Preprocessing*\n",
        "In this code we made the change to using our data preprocessing model, from the previous models we started developing this idea, but here is where you can really see the comparison of simple vectorization vs our [preprocess_data() method](#Preprocess)"
      ],
      "metadata": {
        "id": "bv1hcGv_cR-8"
      }
    },
    {
      "cell_type": "code",
      "source": [
        "Model1_3 = LogisticRegression()\n",
        "\n",
        "Model1_3.fit(X_tr, Y_train)\n",
        "\n",
        "score(Model1_3, X_tr, X_v)"
      ],
      "metadata": {
        "id": "mWn6JnJIV96L",
        "colab": {
          "base_uri": "https://localhost:8080/"
        },
        "outputId": "e876adb1-9896-40e1-d4c2-fc608afe4421"
      },
      "execution_count": null,
      "outputs": [
        {
          "output_type": "stream",
          "name": "stdout",
          "text": [
            "Training accuracy: 0.8548\n",
            "Validation accuracy: 0.7680\n"
          ]
        }
      ]
    },
    {
      "cell_type": "code",
      "source": [
        "Y_v_pred_prob = Model1_3.predict_proba(X_v)\n",
        "\n",
        "# Convert probabilities to class predictions\n",
        "Y_v_pred = np.argmax(Y_v_pred_prob, axis=1)"
      ],
      "metadata": {
        "id": "IUGy3AU6v43K"
      },
      "execution_count": null,
      "outputs": []
    },
    {
      "cell_type": "markdown",
      "source": [
        "#### **Error Analysis**"
      ],
      "metadata": {
        "id": "PAtReyNWcqa0"
      }
    },
    {
      "cell_type": "code",
      "source": [
        "# Select model to represent Logarithmic Regression\n",
        "M1 = Model1_3"
      ],
      "metadata": {
        "id": "kQPeF41MA1LR"
      },
      "execution_count": null,
      "outputs": []
    },
    {
      "cell_type": "code",
      "source": [
        "# Call visualize errors to get an idea of what's going wrong with our model\n",
        "visualize_errors(Y_train_val, M1.predict_proba(X_v), 0.46)"
      ],
      "metadata": {
        "id": "3oCR6UMQntTh",
        "colab": {
          "base_uri": "https://localhost:8080/",
          "height": 545
        },
        "outputId": "cbac6da2-fb05-4b5d-e5ef-c260b828913e"
      },
      "execution_count": null,
      "outputs": [
        {
          "output_type": "stream",
          "name": "stdout",
          "text": [
            "CONFUSION MATRIX:\n"
          ]
        },
        {
          "output_type": "display_data",
          "data": {
            "text/plain": [
              "Pred      0    1\n",
              "Actual          \n",
              "0       374   53\n",
              "1        87  248"
            ],
            "text/html": [
              "\n",
              "  <div id=\"df-63ec3037-d159-4562-b86f-b76fef769ddf\">\n",
              "    <div class=\"colab-df-container\">\n",
              "      <div>\n",
              "<style scoped>\n",
              "    .dataframe tbody tr th:only-of-type {\n",
              "        vertical-align: middle;\n",
              "    }\n",
              "\n",
              "    .dataframe tbody tr th {\n",
              "        vertical-align: top;\n",
              "    }\n",
              "\n",
              "    .dataframe thead th {\n",
              "        text-align: right;\n",
              "    }\n",
              "</style>\n",
              "<table border=\"1\" class=\"dataframe\">\n",
              "  <thead>\n",
              "    <tr style=\"text-align: right;\">\n",
              "      <th>Pred</th>\n",
              "      <th>0</th>\n",
              "      <th>1</th>\n",
              "    </tr>\n",
              "    <tr>\n",
              "      <th>Actual</th>\n",
              "      <th></th>\n",
              "      <th></th>\n",
              "    </tr>\n",
              "  </thead>\n",
              "  <tbody>\n",
              "    <tr>\n",
              "      <th>0</th>\n",
              "      <td>374</td>\n",
              "      <td>53</td>\n",
              "    </tr>\n",
              "    <tr>\n",
              "      <th>1</th>\n",
              "      <td>87</td>\n",
              "      <td>248</td>\n",
              "    </tr>\n",
              "  </tbody>\n",
              "</table>\n",
              "</div>\n",
              "      <button class=\"colab-df-convert\" onclick=\"convertToInteractive('df-63ec3037-d159-4562-b86f-b76fef769ddf')\"\n",
              "              title=\"Convert this dataframe to an interactive table.\"\n",
              "              style=\"display:none;\">\n",
              "        \n",
              "  <svg xmlns=\"http://www.w3.org/2000/svg\" height=\"24px\"viewBox=\"0 0 24 24\"\n",
              "       width=\"24px\">\n",
              "    <path d=\"M0 0h24v24H0V0z\" fill=\"none\"/>\n",
              "    <path d=\"M18.56 5.44l.94 2.06.94-2.06 2.06-.94-2.06-.94-.94-2.06-.94 2.06-2.06.94zm-11 1L8.5 8.5l.94-2.06 2.06-.94-2.06-.94L8.5 2.5l-.94 2.06-2.06.94zm10 10l.94 2.06.94-2.06 2.06-.94-2.06-.94-.94-2.06-.94 2.06-2.06.94z\"/><path d=\"M17.41 7.96l-1.37-1.37c-.4-.4-.92-.59-1.43-.59-.52 0-1.04.2-1.43.59L10.3 9.45l-7.72 7.72c-.78.78-.78 2.05 0 2.83L4 21.41c.39.39.9.59 1.41.59.51 0 1.02-.2 1.41-.59l7.78-7.78 2.81-2.81c.8-.78.8-2.07 0-2.86zM5.41 20L4 18.59l7.72-7.72 1.47 1.35L5.41 20z\"/>\n",
              "  </svg>\n",
              "      </button>\n",
              "      \n",
              "  <style>\n",
              "    .colab-df-container {\n",
              "      display:flex;\n",
              "      flex-wrap:wrap;\n",
              "      gap: 12px;\n",
              "    }\n",
              "\n",
              "    .colab-df-convert {\n",
              "      background-color: #E8F0FE;\n",
              "      border: none;\n",
              "      border-radius: 50%;\n",
              "      cursor: pointer;\n",
              "      display: none;\n",
              "      fill: #1967D2;\n",
              "      height: 32px;\n",
              "      padding: 0 0 0 0;\n",
              "      width: 32px;\n",
              "    }\n",
              "\n",
              "    .colab-df-convert:hover {\n",
              "      background-color: #E2EBFA;\n",
              "      box-shadow: 0px 1px 2px rgba(60, 64, 67, 0.3), 0px 1px 3px 1px rgba(60, 64, 67, 0.15);\n",
              "      fill: #174EA6;\n",
              "    }\n",
              "\n",
              "    [theme=dark] .colab-df-convert {\n",
              "      background-color: #3B4455;\n",
              "      fill: #D2E3FC;\n",
              "    }\n",
              "\n",
              "    [theme=dark] .colab-df-convert:hover {\n",
              "      background-color: #434B5C;\n",
              "      box-shadow: 0px 1px 3px 1px rgba(0, 0, 0, 0.15);\n",
              "      filter: drop-shadow(0px 1px 2px rgba(0, 0, 0, 0.3));\n",
              "      fill: #FFFFFF;\n",
              "    }\n",
              "  </style>\n",
              "\n",
              "      <script>\n",
              "        const buttonEl =\n",
              "          document.querySelector('#df-63ec3037-d159-4562-b86f-b76fef769ddf button.colab-df-convert');\n",
              "        buttonEl.style.display =\n",
              "          google.colab.kernel.accessAllowed ? 'block' : 'none';\n",
              "\n",
              "        async function convertToInteractive(key) {\n",
              "          const element = document.querySelector('#df-63ec3037-d159-4562-b86f-b76fef769ddf');\n",
              "          const dataTable =\n",
              "            await google.colab.kernel.invokeFunction('convertToInteractive',\n",
              "                                                     [key], {});\n",
              "          if (!dataTable) return;\n",
              "\n",
              "          const docLinkHtml = 'Like what you see? Visit the ' +\n",
              "            '<a target=\"_blank\" href=https://colab.research.google.com/notebooks/data_table.ipynb>data table notebook</a>'\n",
              "            + ' to learn more about interactive tables.';\n",
              "          element.innerHTML = '';\n",
              "          dataTable['output_type'] = 'display_data';\n",
              "          await google.colab.output.renderOutput(dataTable, element);\n",
              "          const docLink = document.createElement('div');\n",
              "          docLink.innerHTML = docLinkHtml;\n",
              "          element.appendChild(docLink);\n",
              "        }\n",
              "      </script>\n",
              "    </div>\n",
              "  </div>\n",
              "  "
            ]
          },
          "metadata": {}
        },
        {
          "output_type": "stream",
          "name": "stdout",
          "text": [
            "\n",
            "ERRORS:\n"
          ]
        },
        {
          "output_type": "display_data",
          "data": {
            "text/plain": [
              "     Index  Actual  Pred  Difference  \\\n",
              "39    7203       1     0    0.914288   \n",
              "81    4444       1     0    0.902350   \n",
              "103   6108       1     0    0.891823   \n",
              "77    5441       0     1    0.862555   \n",
              "36    5068       1     0    0.857573   \n",
              "108   3992       1     0    0.855810   \n",
              "109   2556       1     0    0.843389   \n",
              "138   1080       1     0    0.811595   \n",
              "20    4055       0     1    0.810176   \n",
              "76     819       1     0    0.801244   \n",
              "\n",
              "                                                                                                                                            Text  \n",
              "39                                                           Even if u have your weapon and your badge we gonna put them choppas on your ass????  \n",
              "81                              I went to pick up my lunch today and the bartender was holding my change hostage because he wanted my number. ??  \n",
              "103                             Do you feel like you are sinking in low self-image? Take the quiz: http://t.co/bJoJVM0pjX http://t.co/wHOc7LHb5F  \n",
              "77      Police expand search for missing pregnant woman in Beloeil: Police in Richelieu-Saint-Laurent are expanding th... http://t.co/hMuyzmv8qH  \n",
              "36            Of course the one day I have to dress professionally aka unsensibly for class is the day I have try and outrun a natural disaster!  \n",
              "108                               @Cyberdemon531 i hope that mountain dew erodes your throat and floods your lungs leaving you to drown to death  \n",
              "109  @Beyonce @NicoleKidman @Oprah these money grubbing kikes need to get a clueI have no money but I can still destroy with telekinesis. Watch.  \n",
              "138                                               If I fall is men GOD @Praiz8 is d bomb well av always known dat since 2008 bigger u I pray sir  \n",
              "20                                              Tales of the #trees #deep water loving #Lake Tahoe. And no #forest fires https://t.co/xuhMJ098Lq  \n",
              "76        @Ashayo @MsMiggi Hi Ashayo! I believe there will be VODs on YouTube after the presentation but there is nothing like seeing it live :)  "
            ],
            "text/html": [
              "\n",
              "  <div id=\"df-88fbeb51-ee7e-4d33-aa46-d715e69a1615\">\n",
              "    <div class=\"colab-df-container\">\n",
              "      <div>\n",
              "<style scoped>\n",
              "    .dataframe tbody tr th:only-of-type {\n",
              "        vertical-align: middle;\n",
              "    }\n",
              "\n",
              "    .dataframe tbody tr th {\n",
              "        vertical-align: top;\n",
              "    }\n",
              "\n",
              "    .dataframe thead th {\n",
              "        text-align: right;\n",
              "    }\n",
              "</style>\n",
              "<table border=\"1\" class=\"dataframe\">\n",
              "  <thead>\n",
              "    <tr style=\"text-align: right;\">\n",
              "      <th></th>\n",
              "      <th>Index</th>\n",
              "      <th>Actual</th>\n",
              "      <th>Pred</th>\n",
              "      <th>Difference</th>\n",
              "      <th>Text</th>\n",
              "    </tr>\n",
              "  </thead>\n",
              "  <tbody>\n",
              "    <tr>\n",
              "      <th>39</th>\n",
              "      <td>7203</td>\n",
              "      <td>1</td>\n",
              "      <td>0</td>\n",
              "      <td>0.914288</td>\n",
              "      <td>Even if u have your weapon and your badge we gonna put them choppas on your ass????</td>\n",
              "    </tr>\n",
              "    <tr>\n",
              "      <th>81</th>\n",
              "      <td>4444</td>\n",
              "      <td>1</td>\n",
              "      <td>0</td>\n",
              "      <td>0.902350</td>\n",
              "      <td>I went to pick up my lunch today and the bartender was holding my change hostage because he wanted my number. ??</td>\n",
              "    </tr>\n",
              "    <tr>\n",
              "      <th>103</th>\n",
              "      <td>6108</td>\n",
              "      <td>1</td>\n",
              "      <td>0</td>\n",
              "      <td>0.891823</td>\n",
              "      <td>Do you feel like you are sinking in low self-image? Take the quiz: http://t.co/bJoJVM0pjX http://t.co/wHOc7LHb5F</td>\n",
              "    </tr>\n",
              "    <tr>\n",
              "      <th>77</th>\n",
              "      <td>5441</td>\n",
              "      <td>0</td>\n",
              "      <td>1</td>\n",
              "      <td>0.862555</td>\n",
              "      <td>Police expand search for missing pregnant woman in Beloeil: Police in Richelieu-Saint-Laurent are expanding th... http://t.co/hMuyzmv8qH</td>\n",
              "    </tr>\n",
              "    <tr>\n",
              "      <th>36</th>\n",
              "      <td>5068</td>\n",
              "      <td>1</td>\n",
              "      <td>0</td>\n",
              "      <td>0.857573</td>\n",
              "      <td>Of course the one day I have to dress professionally aka unsensibly for class is the day I have try and outrun a natural disaster!</td>\n",
              "    </tr>\n",
              "    <tr>\n",
              "      <th>108</th>\n",
              "      <td>3992</td>\n",
              "      <td>1</td>\n",
              "      <td>0</td>\n",
              "      <td>0.855810</td>\n",
              "      <td>@Cyberdemon531 i hope that mountain dew erodes your throat and floods your lungs leaving you to drown to death</td>\n",
              "    </tr>\n",
              "    <tr>\n",
              "      <th>109</th>\n",
              "      <td>2556</td>\n",
              "      <td>1</td>\n",
              "      <td>0</td>\n",
              "      <td>0.843389</td>\n",
              "      <td>@Beyonce @NicoleKidman @Oprah these money grubbing kikes need to get a clueI have no money but I can still destroy with telekinesis. Watch.</td>\n",
              "    </tr>\n",
              "    <tr>\n",
              "      <th>138</th>\n",
              "      <td>1080</td>\n",
              "      <td>1</td>\n",
              "      <td>0</td>\n",
              "      <td>0.811595</td>\n",
              "      <td>If I fall is men GOD @Praiz8 is d bomb well av always known dat since 2008 bigger u I pray sir</td>\n",
              "    </tr>\n",
              "    <tr>\n",
              "      <th>20</th>\n",
              "      <td>4055</td>\n",
              "      <td>0</td>\n",
              "      <td>1</td>\n",
              "      <td>0.810176</td>\n",
              "      <td>Tales of the #trees #deep water loving #Lake Tahoe. And no #forest fires https://t.co/xuhMJ098Lq</td>\n",
              "    </tr>\n",
              "    <tr>\n",
              "      <th>76</th>\n",
              "      <td>819</td>\n",
              "      <td>1</td>\n",
              "      <td>0</td>\n",
              "      <td>0.801244</td>\n",
              "      <td>@Ashayo @MsMiggi Hi Ashayo! I believe there will be VODs on YouTube after the presentation but there is nothing like seeing it live :)</td>\n",
              "    </tr>\n",
              "  </tbody>\n",
              "</table>\n",
              "</div>\n",
              "      <button class=\"colab-df-convert\" onclick=\"convertToInteractive('df-88fbeb51-ee7e-4d33-aa46-d715e69a1615')\"\n",
              "              title=\"Convert this dataframe to an interactive table.\"\n",
              "              style=\"display:none;\">\n",
              "        \n",
              "  <svg xmlns=\"http://www.w3.org/2000/svg\" height=\"24px\"viewBox=\"0 0 24 24\"\n",
              "       width=\"24px\">\n",
              "    <path d=\"M0 0h24v24H0V0z\" fill=\"none\"/>\n",
              "    <path d=\"M18.56 5.44l.94 2.06.94-2.06 2.06-.94-2.06-.94-.94-2.06-.94 2.06-2.06.94zm-11 1L8.5 8.5l.94-2.06 2.06-.94-2.06-.94L8.5 2.5l-.94 2.06-2.06.94zm10 10l.94 2.06.94-2.06 2.06-.94-2.06-.94-.94-2.06-.94 2.06-2.06.94z\"/><path d=\"M17.41 7.96l-1.37-1.37c-.4-.4-.92-.59-1.43-.59-.52 0-1.04.2-1.43.59L10.3 9.45l-7.72 7.72c-.78.78-.78 2.05 0 2.83L4 21.41c.39.39.9.59 1.41.59.51 0 1.02-.2 1.41-.59l7.78-7.78 2.81-2.81c.8-.78.8-2.07 0-2.86zM5.41 20L4 18.59l7.72-7.72 1.47 1.35L5.41 20z\"/>\n",
              "  </svg>\n",
              "      </button>\n",
              "      \n",
              "  <style>\n",
              "    .colab-df-container {\n",
              "      display:flex;\n",
              "      flex-wrap:wrap;\n",
              "      gap: 12px;\n",
              "    }\n",
              "\n",
              "    .colab-df-convert {\n",
              "      background-color: #E8F0FE;\n",
              "      border: none;\n",
              "      border-radius: 50%;\n",
              "      cursor: pointer;\n",
              "      display: none;\n",
              "      fill: #1967D2;\n",
              "      height: 32px;\n",
              "      padding: 0 0 0 0;\n",
              "      width: 32px;\n",
              "    }\n",
              "\n",
              "    .colab-df-convert:hover {\n",
              "      background-color: #E2EBFA;\n",
              "      box-shadow: 0px 1px 2px rgba(60, 64, 67, 0.3), 0px 1px 3px 1px rgba(60, 64, 67, 0.15);\n",
              "      fill: #174EA6;\n",
              "    }\n",
              "\n",
              "    [theme=dark] .colab-df-convert {\n",
              "      background-color: #3B4455;\n",
              "      fill: #D2E3FC;\n",
              "    }\n",
              "\n",
              "    [theme=dark] .colab-df-convert:hover {\n",
              "      background-color: #434B5C;\n",
              "      box-shadow: 0px 1px 3px 1px rgba(0, 0, 0, 0.15);\n",
              "      filter: drop-shadow(0px 1px 2px rgba(0, 0, 0, 0.3));\n",
              "      fill: #FFFFFF;\n",
              "    }\n",
              "  </style>\n",
              "\n",
              "      <script>\n",
              "        const buttonEl =\n",
              "          document.querySelector('#df-88fbeb51-ee7e-4d33-aa46-d715e69a1615 button.colab-df-convert');\n",
              "        buttonEl.style.display =\n",
              "          google.colab.kernel.accessAllowed ? 'block' : 'none';\n",
              "\n",
              "        async function convertToInteractive(key) {\n",
              "          const element = document.querySelector('#df-88fbeb51-ee7e-4d33-aa46-d715e69a1615');\n",
              "          const dataTable =\n",
              "            await google.colab.kernel.invokeFunction('convertToInteractive',\n",
              "                                                     [key], {});\n",
              "          if (!dataTable) return;\n",
              "\n",
              "          const docLinkHtml = 'Like what you see? Visit the ' +\n",
              "            '<a target=\"_blank\" href=https://colab.research.google.com/notebooks/data_table.ipynb>data table notebook</a>'\n",
              "            + ' to learn more about interactive tables.';\n",
              "          element.innerHTML = '';\n",
              "          dataTable['output_type'] = 'display_data';\n",
              "          await google.colab.output.renderOutput(dataTable, element);\n",
              "          const docLink = document.createElement('div');\n",
              "          docLink.innerHTML = docLinkHtml;\n",
              "          element.appendChild(docLink);\n",
              "        }\n",
              "      </script>\n",
              "    </div>\n",
              "  </div>\n",
              "  "
            ]
          },
          "metadata": {}
        }
      ]
    },
    {
      "cell_type": "markdown",
      "source": [
        "**Analysis:**\n",
        "*   False Negatives, A=1 - P=0,  are over 2.5 more likely to occur than False Positives, indicating our model is more likely to qualify Disasters as Non-disasters than vice versa. This can be addressed by changing our threshold, data resampling, changing to a weighted-loss function, or more extensive feature engineering.\n",
        "\n"
      ],
      "metadata": {
        "id": "EgW0Gj5zrJQf"
      }
    },
    {
      "cell_type": "markdown",
      "source": [
        "##### *Fixes*\n",
        "1. class_weight='balanced': By using a balanced class weight our model is forced to pay more attention to the minority class, leading to less FN. While FP did increase, our overall score got better.\n",
        "2. predict_proba: By utilizing probability prediction instead of class prediction we can manipulate the threshold to fit our false negatives issue."
      ],
      "metadata": {
        "id": "AUacSJ0OBzqj"
      }
    },
    {
      "cell_type": "code",
      "source": [
        "M1_1 = LogisticRegression(class_weight='balanced')\n",
        "M1_1.fit(X_tr, Y_train)\n",
        "score(M1_1, X_tr, X_v)\n",
        "visualize_errors(Y_train_val, M1_1.predict_proba(X_v), 0.46, only_cm=True)"
      ],
      "metadata": {
        "id": "KHsueIK9BzQv",
        "colab": {
          "base_uri": "https://localhost:8080/",
          "height": 199
        },
        "outputId": "190c06be-2bb6-499a-b707-2daabdd7680e"
      },
      "execution_count": null,
      "outputs": [
        {
          "output_type": "stream",
          "name": "stdout",
          "text": [
            "Training accuracy: 0.8734\n",
            "Validation accuracy: 0.7771\n",
            "CONFUSION MATRIX:\n"
          ]
        },
        {
          "output_type": "display_data",
          "data": {
            "text/plain": [
              "Pred      0    1\n",
              "Actual          \n",
              "0       342   85\n",
              "1        74  261"
            ],
            "text/html": [
              "\n",
              "  <div id=\"df-20dc4b68-6ddb-4a4e-b8f3-d9fed0da51ea\">\n",
              "    <div class=\"colab-df-container\">\n",
              "      <div>\n",
              "<style scoped>\n",
              "    .dataframe tbody tr th:only-of-type {\n",
              "        vertical-align: middle;\n",
              "    }\n",
              "\n",
              "    .dataframe tbody tr th {\n",
              "        vertical-align: top;\n",
              "    }\n",
              "\n",
              "    .dataframe thead th {\n",
              "        text-align: right;\n",
              "    }\n",
              "</style>\n",
              "<table border=\"1\" class=\"dataframe\">\n",
              "  <thead>\n",
              "    <tr style=\"text-align: right;\">\n",
              "      <th>Pred</th>\n",
              "      <th>0</th>\n",
              "      <th>1</th>\n",
              "    </tr>\n",
              "    <tr>\n",
              "      <th>Actual</th>\n",
              "      <th></th>\n",
              "      <th></th>\n",
              "    </tr>\n",
              "  </thead>\n",
              "  <tbody>\n",
              "    <tr>\n",
              "      <th>0</th>\n",
              "      <td>342</td>\n",
              "      <td>85</td>\n",
              "    </tr>\n",
              "    <tr>\n",
              "      <th>1</th>\n",
              "      <td>74</td>\n",
              "      <td>261</td>\n",
              "    </tr>\n",
              "  </tbody>\n",
              "</table>\n",
              "</div>\n",
              "      <button class=\"colab-df-convert\" onclick=\"convertToInteractive('df-20dc4b68-6ddb-4a4e-b8f3-d9fed0da51ea')\"\n",
              "              title=\"Convert this dataframe to an interactive table.\"\n",
              "              style=\"display:none;\">\n",
              "        \n",
              "  <svg xmlns=\"http://www.w3.org/2000/svg\" height=\"24px\"viewBox=\"0 0 24 24\"\n",
              "       width=\"24px\">\n",
              "    <path d=\"M0 0h24v24H0V0z\" fill=\"none\"/>\n",
              "    <path d=\"M18.56 5.44l.94 2.06.94-2.06 2.06-.94-2.06-.94-.94-2.06-.94 2.06-2.06.94zm-11 1L8.5 8.5l.94-2.06 2.06-.94-2.06-.94L8.5 2.5l-.94 2.06-2.06.94zm10 10l.94 2.06.94-2.06 2.06-.94-2.06-.94-.94-2.06-.94 2.06-2.06.94z\"/><path d=\"M17.41 7.96l-1.37-1.37c-.4-.4-.92-.59-1.43-.59-.52 0-1.04.2-1.43.59L10.3 9.45l-7.72 7.72c-.78.78-.78 2.05 0 2.83L4 21.41c.39.39.9.59 1.41.59.51 0 1.02-.2 1.41-.59l7.78-7.78 2.81-2.81c.8-.78.8-2.07 0-2.86zM5.41 20L4 18.59l7.72-7.72 1.47 1.35L5.41 20z\"/>\n",
              "  </svg>\n",
              "      </button>\n",
              "      \n",
              "  <style>\n",
              "    .colab-df-container {\n",
              "      display:flex;\n",
              "      flex-wrap:wrap;\n",
              "      gap: 12px;\n",
              "    }\n",
              "\n",
              "    .colab-df-convert {\n",
              "      background-color: #E8F0FE;\n",
              "      border: none;\n",
              "      border-radius: 50%;\n",
              "      cursor: pointer;\n",
              "      display: none;\n",
              "      fill: #1967D2;\n",
              "      height: 32px;\n",
              "      padding: 0 0 0 0;\n",
              "      width: 32px;\n",
              "    }\n",
              "\n",
              "    .colab-df-convert:hover {\n",
              "      background-color: #E2EBFA;\n",
              "      box-shadow: 0px 1px 2px rgba(60, 64, 67, 0.3), 0px 1px 3px 1px rgba(60, 64, 67, 0.15);\n",
              "      fill: #174EA6;\n",
              "    }\n",
              "\n",
              "    [theme=dark] .colab-df-convert {\n",
              "      background-color: #3B4455;\n",
              "      fill: #D2E3FC;\n",
              "    }\n",
              "\n",
              "    [theme=dark] .colab-df-convert:hover {\n",
              "      background-color: #434B5C;\n",
              "      box-shadow: 0px 1px 3px 1px rgba(0, 0, 0, 0.15);\n",
              "      filter: drop-shadow(0px 1px 2px rgba(0, 0, 0, 0.3));\n",
              "      fill: #FFFFFF;\n",
              "    }\n",
              "  </style>\n",
              "\n",
              "      <script>\n",
              "        const buttonEl =\n",
              "          document.querySelector('#df-20dc4b68-6ddb-4a4e-b8f3-d9fed0da51ea button.colab-df-convert');\n",
              "        buttonEl.style.display =\n",
              "          google.colab.kernel.accessAllowed ? 'block' : 'none';\n",
              "\n",
              "        async function convertToInteractive(key) {\n",
              "          const element = document.querySelector('#df-20dc4b68-6ddb-4a4e-b8f3-d9fed0da51ea');\n",
              "          const dataTable =\n",
              "            await google.colab.kernel.invokeFunction('convertToInteractive',\n",
              "                                                     [key], {});\n",
              "          if (!dataTable) return;\n",
              "\n",
              "          const docLinkHtml = 'Like what you see? Visit the ' +\n",
              "            '<a target=\"_blank\" href=https://colab.research.google.com/notebooks/data_table.ipynb>data table notebook</a>'\n",
              "            + ' to learn more about interactive tables.';\n",
              "          element.innerHTML = '';\n",
              "          dataTable['output_type'] = 'display_data';\n",
              "          await google.colab.output.renderOutput(dataTable, element);\n",
              "          const docLink = document.createElement('div');\n",
              "          docLink.innerHTML = docLinkHtml;\n",
              "          element.appendChild(docLink);\n",
              "        }\n",
              "      </script>\n",
              "    </div>\n",
              "  </div>\n",
              "  "
            ]
          },
          "metadata": {}
        }
      ]
    },
    {
      "cell_type": "code",
      "source": [
        "M1_2 = LogisticRegression()\n",
        "M1_2.fit(X_tr, Y_train)\n",
        "probability_score(M1_2, 0.46)\n",
        "visualize_errors(Y_train_val, M1_2.predict_proba(X_v), 0.46, only_cm=True)"
      ],
      "metadata": {
        "id": "0MaSHkmzBBNx",
        "colab": {
          "base_uri": "https://localhost:8080/",
          "height": 236
        },
        "outputId": "a63d0c8f-24db-43f1-b4c1-fb382790e402"
      },
      "execution_count": null,
      "outputs": [
        {
          "output_type": "stream",
          "name": "stderr",
          "text": [
            "/usr/local/lib/python3.9/dist-packages/sklearn/feature_extraction/text.py:528: UserWarning: The parameter 'token_pattern' will not be used since 'tokenizer' is not None'\n",
            "  warnings.warn(\n"
          ]
        },
        {
          "output_type": "stream",
          "name": "stdout",
          "text": [
            "Training accuracy: 0.8702\n",
            "Validation accuracy: 0.7799\n",
            "CONFUSION MATRIX:\n"
          ]
        },
        {
          "output_type": "display_data",
          "data": {
            "text/plain": [
              "Pred      0    1\n",
              "Actual          \n",
              "0       374   53\n",
              "1        87  248"
            ],
            "text/html": [
              "\n",
              "  <div id=\"df-16e37306-5b04-4f5b-aca2-4fe79ad52a5b\">\n",
              "    <div class=\"colab-df-container\">\n",
              "      <div>\n",
              "<style scoped>\n",
              "    .dataframe tbody tr th:only-of-type {\n",
              "        vertical-align: middle;\n",
              "    }\n",
              "\n",
              "    .dataframe tbody tr th {\n",
              "        vertical-align: top;\n",
              "    }\n",
              "\n",
              "    .dataframe thead th {\n",
              "        text-align: right;\n",
              "    }\n",
              "</style>\n",
              "<table border=\"1\" class=\"dataframe\">\n",
              "  <thead>\n",
              "    <tr style=\"text-align: right;\">\n",
              "      <th>Pred</th>\n",
              "      <th>0</th>\n",
              "      <th>1</th>\n",
              "    </tr>\n",
              "    <tr>\n",
              "      <th>Actual</th>\n",
              "      <th></th>\n",
              "      <th></th>\n",
              "    </tr>\n",
              "  </thead>\n",
              "  <tbody>\n",
              "    <tr>\n",
              "      <th>0</th>\n",
              "      <td>374</td>\n",
              "      <td>53</td>\n",
              "    </tr>\n",
              "    <tr>\n",
              "      <th>1</th>\n",
              "      <td>87</td>\n",
              "      <td>248</td>\n",
              "    </tr>\n",
              "  </tbody>\n",
              "</table>\n",
              "</div>\n",
              "      <button class=\"colab-df-convert\" onclick=\"convertToInteractive('df-16e37306-5b04-4f5b-aca2-4fe79ad52a5b')\"\n",
              "              title=\"Convert this dataframe to an interactive table.\"\n",
              "              style=\"display:none;\">\n",
              "        \n",
              "  <svg xmlns=\"http://www.w3.org/2000/svg\" height=\"24px\"viewBox=\"0 0 24 24\"\n",
              "       width=\"24px\">\n",
              "    <path d=\"M0 0h24v24H0V0z\" fill=\"none\"/>\n",
              "    <path d=\"M18.56 5.44l.94 2.06.94-2.06 2.06-.94-2.06-.94-.94-2.06-.94 2.06-2.06.94zm-11 1L8.5 8.5l.94-2.06 2.06-.94-2.06-.94L8.5 2.5l-.94 2.06-2.06.94zm10 10l.94 2.06.94-2.06 2.06-.94-2.06-.94-.94-2.06-.94 2.06-2.06.94z\"/><path d=\"M17.41 7.96l-1.37-1.37c-.4-.4-.92-.59-1.43-.59-.52 0-1.04.2-1.43.59L10.3 9.45l-7.72 7.72c-.78.78-.78 2.05 0 2.83L4 21.41c.39.39.9.59 1.41.59.51 0 1.02-.2 1.41-.59l7.78-7.78 2.81-2.81c.8-.78.8-2.07 0-2.86zM5.41 20L4 18.59l7.72-7.72 1.47 1.35L5.41 20z\"/>\n",
              "  </svg>\n",
              "      </button>\n",
              "      \n",
              "  <style>\n",
              "    .colab-df-container {\n",
              "      display:flex;\n",
              "      flex-wrap:wrap;\n",
              "      gap: 12px;\n",
              "    }\n",
              "\n",
              "    .colab-df-convert {\n",
              "      background-color: #E8F0FE;\n",
              "      border: none;\n",
              "      border-radius: 50%;\n",
              "      cursor: pointer;\n",
              "      display: none;\n",
              "      fill: #1967D2;\n",
              "      height: 32px;\n",
              "      padding: 0 0 0 0;\n",
              "      width: 32px;\n",
              "    }\n",
              "\n",
              "    .colab-df-convert:hover {\n",
              "      background-color: #E2EBFA;\n",
              "      box-shadow: 0px 1px 2px rgba(60, 64, 67, 0.3), 0px 1px 3px 1px rgba(60, 64, 67, 0.15);\n",
              "      fill: #174EA6;\n",
              "    }\n",
              "\n",
              "    [theme=dark] .colab-df-convert {\n",
              "      background-color: #3B4455;\n",
              "      fill: #D2E3FC;\n",
              "    }\n",
              "\n",
              "    [theme=dark] .colab-df-convert:hover {\n",
              "      background-color: #434B5C;\n",
              "      box-shadow: 0px 1px 3px 1px rgba(0, 0, 0, 0.15);\n",
              "      filter: drop-shadow(0px 1px 2px rgba(0, 0, 0, 0.3));\n",
              "      fill: #FFFFFF;\n",
              "    }\n",
              "  </style>\n",
              "\n",
              "      <script>\n",
              "        const buttonEl =\n",
              "          document.querySelector('#df-16e37306-5b04-4f5b-aca2-4fe79ad52a5b button.colab-df-convert');\n",
              "        buttonEl.style.display =\n",
              "          google.colab.kernel.accessAllowed ? 'block' : 'none';\n",
              "\n",
              "        async function convertToInteractive(key) {\n",
              "          const element = document.querySelector('#df-16e37306-5b04-4f5b-aca2-4fe79ad52a5b');\n",
              "          const dataTable =\n",
              "            await google.colab.kernel.invokeFunction('convertToInteractive',\n",
              "                                                     [key], {});\n",
              "          if (!dataTable) return;\n",
              "\n",
              "          const docLinkHtml = 'Like what you see? Visit the ' +\n",
              "            '<a target=\"_blank\" href=https://colab.research.google.com/notebooks/data_table.ipynb>data table notebook</a>'\n",
              "            + ' to learn more about interactive tables.';\n",
              "          element.innerHTML = '';\n",
              "          dataTable['output_type'] = 'display_data';\n",
              "          await google.colab.output.renderOutput(dataTable, element);\n",
              "          const docLink = document.createElement('div');\n",
              "          docLink.innerHTML = docLinkHtml;\n",
              "          element.appendChild(docLink);\n",
              "        }\n",
              "      </script>\n",
              "    </div>\n",
              "  </div>\n",
              "  "
            ]
          },
          "metadata": {}
        }
      ]
    },
    {
      "cell_type": "markdown",
      "source": [
        "#### **Results**"
      ],
      "metadata": {
        "id": "EA1AArJKgS8j"
      }
    },
    {
      "cell_type": "code",
      "source": [
        "Y_pred = prob_to_class(M1_2.predict_proba(X_te), 0.46)\n",
        "create_csv(Y_pred, 'sub1')"
      ],
      "metadata": {
        "id": "cjTroonwBVPp"
      },
      "execution_count": null,
      "outputs": []
    },
    {
      "cell_type": "markdown",
      "source": [
        "Kaggle Test Score:\n",
        "\n",
        " ![sub1_score.png](data:image/png;base64,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)"
      ],
      "metadata": {
        "id": "hGfGHJl6AdhK"
      }
    },
    {
      "cell_type": "markdown",
      "source": [
        "<a name=\"RF\"></a>\n",
        "### ***Model 2: Random Forest***\n",
        "\n",
        "Here, we employ a Random Forest Classifier, a model that works by constructing multiple decision trees and outputting the class that is the mode among all the trees, making it a great model for our project. This model uses Gini Impurity Criterion as its default loss function, which works great for classification problems like this one."
      ],
      "metadata": {
        "id": "HcURXMtyBFeH"
      }
    },
    {
      "cell_type": "code",
      "source": [
        "from sklearn.ensemble import RandomForestClassifier"
      ],
      "metadata": {
        "id": "0vR4cIu-BUWt"
      },
      "execution_count": null,
      "outputs": []
    },
    {
      "cell_type": "markdown",
      "source": [
        "#### **Model Versions**\n",
        "From Logistic Regression we learned the benefit of probability prediction over class prediction, which is why we'll continue the same here."
      ],
      "metadata": {
        "id": "uCncq-T0Ls8p"
      }
    },
    {
      "cell_type": "markdown",
      "source": [
        "##### *2.1. Class Prediction*"
      ],
      "metadata": {
        "id": "ZCh-zAiAERI4"
      }
    },
    {
      "cell_type": "code",
      "source": [
        "Model2_1 = RandomForestClassifier()\n",
        "Model2_1.fit(X_tr, Y_train)\n",
        "score(Model2_1, X_tr, X_v)"
      ],
      "metadata": {
        "id": "D8yVoZABBfjO"
      },
      "execution_count": null,
      "outputs": []
    },
    {
      "cell_type": "markdown",
      "source": [
        "##### *2.2. Probability Prediction*"
      ],
      "metadata": {
        "id": "fNSezQo6EcMy"
      }
    },
    {
      "cell_type": "code",
      "source": [
        "Model2_2 = RandomForestClassifier()\n",
        "Model2_2.fit(X_tr, Y_train)\n",
        "probability_score(Model2_2, .47)"
      ],
      "metadata": {
        "id": "jN9yye0qErpV"
      },
      "execution_count": null,
      "outputs": []
    },
    {
      "cell_type": "markdown",
      "source": [
        "#### *Parameter Tests*\n",
        "| n_estimators | max_features | max_depth | Training Accuracy | Validation Accuracy |\n",
        "| :-: | :-: | :-: | :-: | :-: |\n",
        "|     |     |     | .9863 | .7547 |\n",
        "| 100 |     |     | .9863 | .7504 |\n",
        "| 200 |     |     | .9863 | .7377 |\n",
        "| 100 | 0.3 |     | .9863 | .7453 |\n",
        "| 100 | 0.3 |  5  | .5072 | .4885 |"
      ],
      "metadata": {
        "id": "Vw1cp-v_LQ6I"
      }
    },
    {
      "cell_type": "markdown",
      "source": [
        "#### **Error Analysis**"
      ],
      "metadata": {
        "id": "ogCj0hj9JLKW"
      }
    },
    {
      "cell_type": "code",
      "source": [
        "# Select model to represent Logarithmic Regression\n",
        "M2 = Model2_2"
      ],
      "metadata": {
        "id": "WNENBd5YJLKX"
      },
      "execution_count": null,
      "outputs": []
    },
    {
      "cell_type": "code",
      "source": [
        "# Call visualize errors to get an idea of what's going wrong with our model\n",
        "visualize_errors(Y_train_val, M2.predict_proba(X_v), 0.47)"
      ],
      "metadata": {
        "id": "qjuMm4IQJLKX"
      },
      "execution_count": null,
      "outputs": []
    },
    {
      "cell_type": "markdown",
      "source": [
        "**Analysis:**\n",
        "*   Overfitting: The model is clearly overfitting with a training accuracy of 0.9863, but a validation accuracy of just 0.7547. This can be addressed by playing around with RandomForest's parameters, and implementing cross-validation.\n",
        "*   False Negatives, A=1 - P=0,  are over 2x as likely to occur than False Positives, indicating our model is more likely to qualify Disasters as Non-disasters than vice versa. This can be addressed by changing our threshold, data resampling, or more extensive feature engineering.\n",
        "*   High Confidence: The model seems too have high confidence in incorrect results. Some ways to address this issue could be to fine-tune some of the model's hyperparameters. Ensembling might also be a useful approach that could potentially improve the generalization of the model as well.\n",
        "\n"
      ],
      "metadata": {
        "id": "aPL9L-j9JLKX"
      }
    },
    {
      "cell_type": "markdown",
      "source": [
        "#### **Results**"
      ],
      "metadata": {
        "id": "uRp7L7MQJLKX"
      }
    },
    {
      "cell_type": "code",
      "source": [
        "Y_pred = M2.predict(X_te)\n",
        "create_csv(Y_pred, 'sub2')"
      ],
      "metadata": {
        "id": "IWcrvbH9JLKY"
      },
      "execution_count": null,
      "outputs": []
    },
    {
      "cell_type": "markdown",
      "source": [
        "Kaggle Test Score:![sub2_score.png](data:image/png;base64,iVBORw0KGgoAAAANSUhEUgAABY4AAABICAYAAABRG2HjAAAAAXNSR0IArs4c6QAAAARnQU1BAACxjwv8YQUAAAAJcEhZcwAAEnQAABJ0Ad5mH3gAACajSURBVHhe7d17XFR1/j/w1667zE+jMfGLP/gGUoHVF7QC/WmwmiBe8Bbqhlog5oW8ICZ5ichC01g0FQNEC9OV8JtiqSReUgksAzWFNYVtAzKEFn6yaoyT7vCV5nvOzGeGmeE2XLzV6/l4nAefc+bMnM85Z+afl2/f53daCYiIiIiIiIiIiIiIhN+Lv0REREREREREREREOgyOiYiIiIiIiIiIiMgMg2MiIiIiIiIiIiIiMsPgmIiIiIiIiIiIiIjMMDgmIiIiIiIiIiIiIjMMjomIiIiIiIiIiIjIDINjIiIiIiIiIiIiIjLD4JiIiIiIiIiIiIiIzDA4JiIiIiIiIiIiIiIzDI6JiIiIiIiIiIiIyAyDYyIiIiIiIiIiIiIy8zutRIzpbqIqQOoHOaiWhh4TIhHgot9sDU1FAfYe+Ax5x/NQAlf4DPRGwLNB8HIQOxARERERERERERE14/YHxxo1VBoxlilsoVSIMdWr2oXpPtHIloZh6cWI7qff3DwNCt8PwwtxeVCJLfWU8In6EFtecgcvNxERERERERERETXnlgfHmspiZBcewVcX8pF7vRglv4gXzNjCy/Zp/Olhb4z0eAYejjZi+29YG4JjTc5yPDk9DXIurxw4A9FTB8MZpfg0Pg47i+StCoSmnsHygYyOiYiIiIiIiIiIqGm3Jjj+pRbV3+xBwqlUpP6sFhutZ995KOY/PROTnnCE4rfahbnVwbEKh17uizn7pKFnDI6kh8Ctk/4V1BUhKSAQa0ul8dgNOPvucCj1rxARERERERERERE10OGxrKpkP1a+Pxr9spPbFBrLqm8cxRvZk/HoptXIKGnbZ9wumrIcJM0JRP/evfDwI/LSF8PmxCGjyLxZRH6ceH36Ll3fYlPNvWZQnZeM4L5iv74BmJOYh+o68aJOKcp/cIdHH3cEPO9bHxrLOrnDx1+Mr9XoKpJbpkF5VjLmDOsrzqsXHveZiJiPi6AyO66krhr525cj2GLfBe+bzrEUqYFi/o2d57lkPCPeu+BAw0YbREREREREREREdPt0XHD8yxXkfjwTQ/atRsqNWrHRlC28Oj+DsEemYOkjC/Ce3xtYrRuPx6TOLnAWe5nR7Mf8faMxPv0EVI22uLizNAXxGOMXhrWfFaH6uhJufdxh30WFks8+wIIxE7G2wLqItiWqo3F4ITgeuVfFhqulOBQfikGzd6HcGMx6IiwjA5nSsvE5J7HNQIXyCjG8v6sVPY41yI8LxDNh8ThUWh/iaqoKkLokEP3NjluNjNl++PMbaciV9lU4uMPDVanbNyNOnuM+ERK7wm+ip26EnJz6cxEKj0ufqRuFINCf9dBERERERERERER3UscExz8XI+WDSXi+vNiiktQGPt2nIGH4Dnw3bz/2zF6BpYEzERY4HgFPDcUk3XgBVs9OxfGXj+D08CVY2r0X7MW7DfJ/fBV9Nn+Iwp/FhruCCtl/TUaJPPSMxCd/O4MjGRk4dTYbcf5yNFuKpMRPm6wgbo2d7+eg7+oMnC0uxoXz2dgy1VW3XZMVjVgrqnM1p5ORdEAeKRAaNLjFNhWqA6/hhfflvhYKeExPwRd/l45bfB5HYn11obMmazk2HBXHLdqFtVn6/smB7+bi29wMZB45g7PbZ8BN2qrJeg0pp3V7wnngs/DSjQ4jO8903kXI/kifbCumDocPWzATERERERERERHdUe0Pjn8uROKHc7FSbV5l7KyciY8m7sdHoTMR6OEIxR/FC035vQ3sPUYjLHQzvpocj6VKW/GC8PNmjNqWjPy7JjzWoOaaGDo6w82QxnZywqSkXJz923lc2BLUIARvC8XUGCx/zh1Kuf1EFyf4LV2HhaKo+NCez5oPp8t2Yc6LH+gCbreXPkR0iw/Gq8bBj/fp21l4RmH9a75wlt/SSQG3yWuxPlhuh+GK89/LwbLkukpUCtvD7aH6s1V6RyHzzBl8W3y+vj+zywhM9NUPMz47AWN0XJqPQ7rcWIFJ/l66cJqIiIiIiIiIiIjunPYFx79UIiN9AdaYtaZwQehTm3Fg2hT4PGgjtrWOwtELYTP2IOup0aJCVdDsxPgd+1F+V7StsEfv/6ev/MWBVzBoWDhi3t+F7HMVUNUpoVR2XPwZOtzbPEyVexaPEuOcUhHcNqJsF6aPjkb2dema+sdiy2LPlkNZTSGKcvRDnyCLXslQImCFvh1G5hzRdsLVC4Fd5EEF1j7vgz8vjEPqvgKUVKmk3ZVQmL3fHiPHD9cP9+XhjOjkUXJ8FwrlQZcQBHozNiYiIiIiIiIiIrrT2hEc1yJ/76uY/5NJaPz7Xljkl4wVfr2gbHctsw3c/JZg25Ap8DH9LNVqzNqdb+UD3m4tj5c2Y+Nkd10Yqyo9jNS4aEwP9MOTvXujf1gycjuiT4WskWptZzdRutsU09C4XyQ+eTcIzmYhbhOuVhuDaMUfrAhxuw3Hqo+i4NNNGl+vRv6eDxDz8kQM8+mLx/vLD9MrNbtXyoEBCNCNdiHna/mVapw5VqTb4jzrWXhZM0ciIiIiIiIiIiK6pdoc72r+nooVZWViTeaCRb7rEfGURYuJdlI+ORN/HTLJrPK4sHw13j/X2AP4brNOTgiIzcC353NxJH0dlkeEIMBV7lmhQXVWPIJnpzVdDWzi3zfFoCn/I/6aKC/PE6OGNN+lmYfGf50LD11VsBW6dDX2QNbctC6eV/SZge2nzuNsdga2rI5C2HhP2MvHu6p/mF7scZPP6TYYgWPlgQY7jxcBVTn4TFfh7ISJvu7ygIiIiIiIiIiIiO6wtgXHvxQjNftD5ItVuTo48MlViHiyY0NjA0WfuUh46mmTfsGVWHNsJwrvgpYVGpUKGoU93PqNRWhkDDYeOYPMKBGAFhxDbpV+aJRThPOmeWxdKQq/FuMmHDqtr8g1kt5zJkd8iLerWR9lOTSeM2F520JjmdIVXn30w9zjBfV9iHVUyF4eiDGB0hJfUF9JXKeB6mfprS7u8HtuBqLXpuNU7gZM0r2oQaocEBsp4Tc+RDfSpH2GjLwcZMsrTkHwE8clIiIiIiIiIiKiO6tNwbHqxA68ZxJ+2j+wAIt9HcVaB6n8Ahln1WIFcPZ7FSsfMOmZ/D+bseP0Haw61uQhpncvPP5UXwz7S55JOwYNai4Z4lYn9JBbOEjqW0ukITYuB+VXVVBVFWHna+GIPSdeakJ5/CuIPS4+s06FwrQ4rBXv8RrlDWf9EJpzyXhBhMawD8L6dSFw1kjHkY9lsmjq9PujrgIZL/vg8b6hSDlnOANX+E0U/YsPvIYFO3RPrdNR5SUjdlsRCs8VSefjqmvRUb59Ih7u1RtPPjUPO+t3lXauwSUx9HA01DDrKbyHI1QOs6+n4dU3Duu2ecwYAQ/diIiIiIiIiIiI6Lfn5s2bKPimEJ9/kdchi/xZ8me21e+0EjG2UiV2vj8ZS34Wq/DAisBkhD4iVjtC5VEsSV+Bnb84IsJvMxYZ2l+U7cGLu9frK1RlnRfg+OzxxuD0divcGIAx75TqxgoHd7jJpb/XK1BYqg953RZn4MgcUX189TAWDApHhhzqmnKagbDBHyBluzT2jcWpLUH6CuKqXZjuE60714CxY5G9b59JOC24zsUnmZHw0rUirsbO6T6IEg+2a5ov4nJTMMlBGp6Ow8MTP9Bv9l+HUylj9ceuq8DO2QGIyhJH7OYKD4V0XlVi3TUSmYfmwkPuR2x2Xkq49XHSBcqXSotQLW/rMhYbv1yHABGg62mQu7wvgrcZzsgTy7PTEeoiVomIiIiIiIiIiH5jvin8B/51+YpY6xj/0d0OT3g8JtZap/UVx+UncNAYGgP2jqEY95BY6QjG0Fi3gsTsmVhzVlQWu4zGS44mVcc39iPXtM3ybeYxJwNHVofAqxugqdJX4upC426eCF19CJmG0FgmP0Rudywmudc/cE7pGYKN/x2FgPvEhiY4T/kLMlcMN/YeBhTwmByLzE8MoXEbuY9AmKs8UCLgWZNWIJ2cMGlTNrZH+opexaUiNFbCKzgWRzJEaCyTzmt9dioW+ttLs1KhRL4G0lJ9XQF7/0hsz7YMjWUK+IwO0QXMOp7Pwo+hMRERERERERER/YYZQuMHuirxsItTuxb5M2TtCaJbXXFc/nkkBp41dDe2Qdig/VjazyTMbQ+z0Fj4/TNImLACgaKsWJO/Hn86tgfV+lX49dmBvw7t4DYZbaDrdSy3gOikgFLZQpp7XQVVJyVa2q0BuZewSgN0acN7myJ/pkaac1N9kA3HlCiUSigMgXFjWrMvEREREREREdG9SlWK7H2fIud4Ds780wl9fb3h++yz8HM1b9fZqLLDWLu7UKw0o4cvwoI9oVQVIPWDHGMW1jQPTIwcLv5nfgUOxe9C80cx3d9c9eld2HsoDzlflwJu0rl5j0DAWE84N5ZHWXM+7kFYOMJJrFBT5PYSMn34274eCxfKyqVF31d2yDPeur+t1crgWI3s1NF48bJYxXh8NG8BfP4oVtvDitBYR3MCK5NfRYpYhd0bODd1qEk1LhERERERERER0a1RnROHafM+QKFlO1KJclQsMt8NgnNzxXSmrUObY2hpatLOtHkz8Mn3UfDSjQsQ+8jE+vysUab7C9dLkbpkImIOGJ7fZaKLO+alfIiF3hYpnDXn81I6LkSJZ2pRk+624LiVrSrKcP6qGMrseqP37QyNZYre+FN3MZZd+Q4lYkhERERERERERHSraAri8cL0+tBYfuaVRx9XY0Gj6kA0hi3LaficqtutuqINeVk1Ml4ONAmN5WdZSefnIMqMrxchKXgmUvWP+zKqLrfYQL8arQuOVZdxySTctb/fsf2Vvq0JjXVs0aOraWuMSlzq2J7RREREREREREREFiqwc2WyMZB1eykdZ3MzkJlxCGezY+En2oBqti9Hyjn9uFH9onDh++JGl8zFuodR6XgN9tI/j8ohCFsa2VdeziaNNT5DShH8NDzEGHX/FgPAJza70fdesKg21hxPxqtZIvLu4ou4L87gSIZ0fl/mYvtLhnkVICZ+H8zqkeXWrTre0nsaO460sNr4ntS64PjGNVwSQ1nfB+zEyML/iL8taXVorNdDafq1VkNzx/8Zh4iIiIiIiIiIftVKc5BeIMZOkVi/2LP+wf8uQYh+xV2sVCBpv2HHVrh6GCkbRPVulxAsnFwfIjeqrgip8ftEdbMnomf61s+notTY2kKhaKwxsSUNcj9LM1ZKB/xlLSYZWhJ3UsJnfhQmiVUc+BQHq8RYUl6SI0YK/B9rDkX3jFa2qrDCz2XYmTYMoz7Ob74sv42hMRERERERERER0e1W/c2x+ofNDfeEh0UfY7enRxgfNKfJK2x1q4jCHeuQIVpgeL02Az4thLCqzzYjSeTMiqmRmOSiH+uYFHW6OdtDVZqD1Ph4rJWW1H1FqDZWCRsUIX+PGMIbvp4WPQa6eMF3rBgjB0Xf1qd+/74pBnCFs50KJVlpuuOsjU9DxrmWH+lHd6+ODY7l0Dh9Jpb8VIvC8kiMbyo8ZmhMRERERERERET3kEtV9VGw3+NuYmTC3hnGrecqzNs5tOTqPiS9Y1Jt/Jyh3LcJcrVxnEm18Yve9dXGkuofDX2H7XEmPhD9h4UhJjEZSdIS87K03j8cqd+ZpHaqapQbH/bnjl4NDq9Ej4fqj1D+L8PZSe/7Xgzt87E20AfDwpbrjpOUuBwLpPUn56WhpJEHCdLdr3XBcef70UMMZYd+Mm8uXH5qPd75qVasQRceT95daB4ed0BofEmVL0YyW1hVcU9ERERERERERNRGmpoKMWqCvVN9cAwN/t1oNWXjCtPW4ZAYW1VtfGAD1orpNKg2lvz7puHg1cjPq4DziBDMmz4WXoYH3V09jJgJccg2BLrXa1oMup2dvcUIqDH2jZX+Gg9VgNxKJwQEz0XYeE/Yi57PqgPLMeYvd8EDA6nVWhccK7ujh+k7rlWafamc/VZh26Me+sbdQn7ZXMzaV6z/cnRIpbEal2rqw2n83hE9HhBjIiIiIiIiIiKiO8HkgXSt6vcrVxvHixTY2mrjdw6LlYbVxjLnZ5PwRUYqtqyOwZbsMziyMQYLl67DJ18eQpy/2Pt6Gj48YH0rifowGuhqrOJ0wrikbGSmpiBuRQq+OHUIG1dEInptOk4dMn1g4HbsNemLTPeGVraqcEHvbmIou3Ie580ehGcDj9Hr8f4jvczC4+ySmZiVntwx7Sk05/HVZTGWPfAo3Dq24QYREREREREREZEZ+4fqK25LqhsJXKsrWt3XWNbR1cY6XZRw7uMNv+dC4Gf6eicnTIqca+zFnP2tmLFZtfQlXGqk/Lj6hzwxMqfo5gSPgb6YFOwLZ9O+z05BWBhuCMFzUHpBDOme0crI1RZuTl5iLNuDz8+aVP/q2MArMLlhePzjzg7paawpPIG9YiwLeNADFu26iYiIiIiIiIiIOlQPB1cxAsoLSxu0dtB8W4RsMYa/hzGcbdYtqDaWaa6qoNItjTSIUNrXz02j0XcJ6NQDTn10WyQFKCkTQ6NSnDfmxgp4uIrUr04jjiMtjfQxVnarvwoaY3sLule0ulbX2fUZ+IixLOW7xh6A13h4bNTmB+HV4sx3+1H/bzoeGNLLUYyJiIiIiIiIiIhuDYX3YISKMQ58iL2G58/pqHDo4zQxBvxGPF2ficnhqqrx0PSWVBujAnvn9cWTfeVlClItQuDqE4eRK8bO/9lDBM+u8JngrhvJ709Kt+hJfO4zbD4nxl1C4PeEGFd+ijm640jLlDSUi8161cg9bEibnWDfo4WTo7tO65s8uDyNcfeJsez/b8ZOw9MTzYjw2MXiG9zm0FhSth/vV5pUON83DD5t+RwiIiIiIiIiIqLWUPhi4mJD1XEBYmZHI/V0BVRVpchYOQWvHhAvdQnBlFEiNr6ag5iA3njyqd4YFldgHsZW7cJaQ7Wx0wy83lK1saYAScZqY18sn9V4tbEc0vqM8hTjAsSGi3lerUD+9mi8sCRHvOaJmaMMYTHg9mw4Ao09iefhhfgclFSpUH76A8x5Md4YCnstDoKXoSWFkzdGGA8VhznRacgvU0FVVoDUJVMQZTzUDATWH4ruEb/TSsTYaqrcFRhy8mh95a9yCU7PGN14dTFqkb97JsaXlbUvNMYVHNo6CbN+MgTHNgjtvxMr/mQn1omIiIiIiIiIiG6h6wVYO3EKkoqaarvgirD0DET3E5Hu6Tg8PPED/Rgz8Mn3UdA3gdUgPy4Af35fHxz7rc7FlucaT9YMqj8OQ38R+jq/lI4jUZ5NBMeSugrsnB2AqKym5qmQjnlIOqZ5WF2+JxxjFh5u0IbDQOEfiyObgsx7GVfswvSAaGQ30qpCp4sv4g6lYFILuTgBn3+hr9B+2MVJWtpXLXuhrFxa9N+vIc/U9+dujTY9Vk759GTMMv1mqlZj6eeVYsWSDbwmbMaeR0a3IzSWvrjZq7DUGBpLFKGY3J+hMRERERERERER3SZdPLEwPQNxwZ4NnrmlcA9CXGZ6fWgscx+BMF2RsgIekSPgodsoqfgUSSI0lquN541tPjTG9TykJBjKd30R/mIzobFMfgjepmxsjxoLr25im6D0HIvo7dkNQmOZ8/gNOLo9En4Olp+uhE9kKr60DI1lTkHYcjQV0eMtr4kSXuOjsD2bofG9qk0VxzLNuWSMP7oThWIdcETEkFQsetJGrHcc+ViTpWPli3XABYuGbkZEn44/FhERERERERERUYs08kPhqlFSrYCbiz2UyiaiXLnH8c9o+vXbQKNSQVMnDbooYe005AfsXaoohcbeFc72SigsA+PGmPRzViitfA8Z/SoqjmWKPjOx0qx/cSUSP5+JxHMmVcEdQHV2M1783DQ0BrxcFmCqB0NjIiIiIiIiIiK6QxRKKB1c4dXHqflQuJPijobGMjnEVXazPjSWKaT9nft4ws2hFQGwfK7ycaSFofG9r80Vxzq/VCJjWyjmm7aQgCNCn1yFpUNcmi+Zb1EtSrLXY/Hf9puFxvYPLMGekNFw/qPYQERERERERERERHSPM1Qcd3tAiQe6dtWN2+qnmhpc/UnfrbqtFcftC45lPxcicdtcrLHotW1vOwUJ42bCp4UWLY2qzkfKp29gpUotNgiKSdgTMhdelk1kiIiIiIiIiIiIiO5h3xT+A/+6fEWsdYz/6G6HJzweE2ut0/7gWPZzMVL+ey5Wqhu2qfCym4IX+41GwH85QtFcY4xfalH99yPYe2YP3rtcjGqx2cDedia2TZoCD4bGdCfV1UJdawPbzmK9I9xQo9bGFjb8LxxERERERERERL9ZN2/e1IXHP9XoK4Xb64GuSl1o/Ic//EFsaZ2OCY5lv1xB7u4lmF/eMPTVs4Gb4mn4PeiC/4vucHa5HzVlP0AFNYor85F7owzlYk9zNvBxXoGEwKdhfze2p6iT5p+RgHWpx3G+Rg7ObdDbJwhhEdPg5aDf5c6qQmZ4CMqmHUV4P7HJCrU1asD21oeZ59cPxZwMsSKxtXPAo4/7Y2qHX78CbPDbCpePEjCmwefqr9GqIrHaiMnvyNdPjWNvjsPSk4HY+FkEeovX2kX9OVaNjcXhCe8gK8JTbLzLXDyI+DcSsfui+H77z0LUgkC42OpfJiIiIiIiIiKiX5+OC44FVcl+JBxdj5Qb7X9Inn3n0XhjyFwEPnqXJlR1VTgSNR1vlfVH5IIQ+Ho4wKamGIe3rsWGXDtEbknAmAfFvndMW4JjOWRdDOjCUrHpFtEFxzeicXBuf916bXUxzhx8D3GZNojaloBhHRYeNxccS8dVq1ErP11UdjoBI1cCq/fORx+xycYQolcVIb/GAV6P2elf6ABXik7isv0A9GpLW5dbTX0c8X+ORWXwGkQFucG2pgSHk5chvnY2MuKGgNkxEREREREREdGvU3PNI9pE6TYaS1/ag+N/movQ+9oWKznfNxQr/HbgqxlL7t7QWKLOSkRcsT/e3bIME3zcYNfVFrY9PTEhZhPeHVmFVesPwqJLs64tgbpGWm6IdRNyla8uvKwV+5hk73KwKW8zhpuCMfCUWyjI79FVPVvBuL/FZ+q2X4X8KfJ8Gvs8w1wa6UzSNp27wVa+dtJi5+aJYRFrsHJAEVIyLEqADdeliTlZXhvdtbZyjnIwbJiDbdf7pS33437juknltV1PPNqzPjRucM+aOmAzc7ft6QEXyxy6qfsjkz9L/v7I+1wsQrFpiX9z72sDde5B7O45DZGh7rDrbAMbB3eMmRWE3iezcKZG7GSYjzy0PEfDfKy9Ec1cJwOz34Lu8xvZt5nfGRERERERERERtazDK44taSqLkV14BF9dyEfu9WKU/CJeMPV7O/h08ULfh70x8r+egceDNuKFu5m+kvcL/zSsntBICWvVcezYdQ19Z41EL/l06qpwbOUivJWrhou9DSp/VMPRdxHeXjoEjrpQUl8R2z2iFw6nfimtq1F8ww6hby3Do/ujEVdog+43qlAGT7y55R1RiSuqiSe8A7z3Og53ssP9NVWo7DoSKxMWwltXwdqw4rj23FYsfnU7vuvsAMe6Kyiu9UBkfAwmPGYLVB/EqsityPnxCmAnvd7ZH6+kTdO3ZVAXYceiRdhw0Ra9utairKoW3rMS8OZkN7T1jukqjvEOvlxg3qahbOtEhNS8JrZL12LrIsxPvYjuD9rBRn0FZZ374834ZRhseh0sqqrlz07tabg/zVccmzmdiEGLgY3ZDdtRXNk9H4EXp4l5mdyzzVlAV2ne0jVxmfA2NkV4imvS+rk3e38kujmUDMKrFVux6px0DyL059jwfT0RvmoNJvdpxz++yEGu3NPZ1uQO/7gLL4f8DRP2vo3B0jkb5vNm9XYkVdigtkr67vSLQMILVVj3+kFoDNclSLoucw3XxVJL10neRXz/Ltigl/wbuuKCV2L640hUFUIN96rF3xkREREREREREVlFDo5vK/U1bU2NyXJNI164x9w8oU3yDdZ+8r1Yb5ZGey4hSDskIl37z5ti07Vi7Udz/bXBmwrFhnzp8/y1QatOaK+JfX7YMk070DdQm/TVNf2Gm5XafdJ7gozv0a8PGblIu69MbLp5TXsmPkg7cO5e7WXdBv0+SV/rVrTay1na5cODtEknxGdK/pkeoR0SmKA9d11sEHMxvkfnsjbn1ZHa4Pj6+WnL0rWLh0vz+7rt9/BcvL92YHy+WDO4rD28yF87bZv+pDRfJ2iDg6K1hyt0q5Jr2twVI7VDjO+zOEdB/uzFn1SKNfmcIrT7DKvNkY430Fe6HmLV1OVPIkzmq79OZvdVvibSPdsmblGr527F/dHNwdd8H23lXulemG+7fPRtbdDwaG2O/ovQYb7bJH2XX82SzkRPP58I7SeG7+BPWdp1w6X7Orf+umhOrNEG+Upz+Um/bqnl66TRnomV1k2v9U/Sb3CytM14r6z5nRERERERERERkTU6vFVFi+6zhVJpsphWMt5LquXqXzvYdBbrzblxCkd212JqWFB91aOtGybPDkLt7iycN7YUsMWYMQNgK/Zx6SNXtfpjsI+oGO3kAB9/d1Te0OjXhe6B0zCmp1jpZAuv0GkYXLQLORfENhNlmVtwzHc+wgbUV6E6Bi1CuO1B5H0rNjTmwkFsKxiIV2bVzw89gxAebIvdeYVigyW5+nM2lqYW6VpfNOnHIuTnntQvB7cjfnYI3iociKnipGz6RSAt/W0MM/aLtsVDj/VEbfFFXBFb7hwbTJ5mcl97DsIz7mqcL9bPrLVzt/r+DJiNqSb7lB3ehbwnpplts/OfjbAnTmJ/TpXYYsnK+2NCfTIRy3c7IDLCor/xgHEYbvgOdnVHLzfA23+Q8brYDBiCwbiGa020jmjxOkm/oWOH7RAeaXKtuw7A1FCP+rlb/TsjIiIiIiIiIqKW3P7g+NfC3gEuuIJaa3qo1lxGJQaht7tYN3BwwEO1xfjB2KO2J+za8Mw178fcxEiw84DXg1WovCzWTVy7UgWc3ITZISGYblyisa26FsUXmgoYJZevoBinkBRm+r4QLN8tXYNvmwpw1aj8pgR5JVXNB5OFGUhKTtQt6xK3YjeCsOWjZRhsci1qfyxA5ua1eGu2dNznxyEkuUS8cqe5wdFRDE3V1Z9xa+Zu9f1x6GYW3Mrv8+rvaR7mwg6OPW2Qd7FSrFuy8v4ItacTMTvqS3i/HdvwoY8W82mLZq+T7jfkiYcM4bRga2+ywerfGRERERERERERtYTBcVt1coTjw1XI/7aJmlf1RZzPLcIVYyKngcaadK4NrtVafrAa6gZP5avn6BOEeXMjzJaYmLcROqCF1LrrIDxv8b55S2Lw7swBTYSGbpicfhRZb1lUp1oa/hq2pKXplrQ1QXD5x5c4Z3JZ1VnLEDh9LfI7yQ9mW4Y1m9KRFmGZDt6d2jL3tt6fazda+wWz8v7IfszA0te/hPc7WxDer70RcUPWXSdrfkO37ndGRERERERERPRbwuC4zXrCd4w7jm3djvONhLRlu5dhzuZCaOROHPY94WJzCsUWhaa13xbiTFcPPNbSw9pacL7kohgJVcU4X+MOFyexbqK7Q0+Uqe9Hb58B8DJZentKS3MPJezhgN7V12D7hPn7vDw9pcWhzQ/Ha8A9GOH+Vdjw3ucwXNYfzh2HY3As3pw2UjqWG+y6Skczqeg1KLtoWjFdhR+KxfAOsnbuBm29P//Z0x3F5wqN10zvIr4rqMUw915ivY1+zMCS6e/BZm7CLQmNZS1eJ91v6DhOnDQ/w7KiAjGS3OLfGRERERERERHRbwmD43awC4zGqw4H8XLYWhwpqYK6tha1NReRnzwbs7eqERoRCF0Xg06eGBNsh5QVicg3VNJWfY4NicfRd1og2hnr4VrmGmwwBGq1F5EZ+x7ODBgH30aCMsfhIRh2chPiD15Erej5eiUrFtNHzUemMXftDscHgbKSEqhrRHjX0x+TB5zChtUHUWbI86RziJ86Ckt2N9PiotVs4R06DY+eTMC20/oDKTrbouz0SVSK+dZeyEDKdtN00AGPPWGLvB1bkHdRLc1ZugeJidh9F7QmaHnu5qy7Pw3ZDZ+ICd8k4q1d4n11ahSnSt8LdSAmDGpH2KsuwIbIRFwLWoNXfG2laytfX/1imF9HaPE6Sb+h5+e6IfMvi5CSVYIr0j0+v2MZ1mWaBMm3+HdGRERERERERPRbwuC4PTo5YEz8FrwzqAxJ4SEYOWIU/MdNx+sneyJ80xaEedZXiLoEJ2DjyEK8/uehGOQnLVMTUDlyDVYGtr8McsySZXD5eKL+c0fMRkqXadiytIn2A3ZDEJUQDKTOhv9Q/VwC117E8LhlGGOcSk+MWRCEa9I+I8ctx7EaeZsdBi9NwORO2zF9hDiH59fgB9+3EdUB52CmZyDCA4EdybtQVgf0Co5FWO1WTBTzHRl9EV6B5m0M5H3C7Y5jydRx0pxnY7f9NIT5iBfvIGvmbsaq+9MI24GITIlA993ifUPHYX6WA96Mj0Bvax7g2IQrh7diRzVwfvt8BI6Tr239kmJS7Nte1lwnu8AE7IoZgMpdy7AoPBo7roxEzMJB4lW9W/k7IyIiIiIiIiL6LfmdViLG1E61chVmZ1vYNt1RQPff79XqWtjY2sKmk9jWZlXIDA9B2bSjCO8nHV8tHb+TdHxrg8IbaqjrbGDbzITl9sk2li936Dm0ghXzbXzCd4Em525+D81Yc76NaPX34G7S0jnLFcmm37nTiRi0GNiYHYHeYpPOnfqOEhERERERERH9SrDiuAPZdG0hNJZ1soGttN+tCLPkkKxVYaEccrcw4UYz2Ft4Ds2yYr53ZWgsa2zucrh5sQD5Jba4v4vYZsqa821Eq78Hd5Mmz1mN/PUhmJ54EmpDi4y6Khw7lAWbQR54SGwyulPfUSIiIiIiIiKiXwkGx0R3SvVBvDU1ET+MicHkZrpXkMwWXkHT0adgOUYOHYWQ58fBf2gI4ioCsWlJE21ZiIiIiIiIiIiozdiqgojuKbpWHHLVsc09XFlNRERERERERHSXY3BMRERERERERERERGbYqoKIiIiIiIiIiIiIzDA4JiIiIiIiIiIiIiIzDI6JiIiIiIiIiIiIyAyDYyIiIiIiIiIiIiIyw+CYiIiIiIiIiIiIiMwwOCYiIiIiIiIiIiIiMwyOiYiIiIiIiIiIiMgMg2MiIiIiIiIiIiIiMsPgmIiIiIiIiIiIiIhMAP8LFTxX0t4eaP0AAAAASUVORK5CYII=)"
      ],
      "metadata": {
        "id": "OHtk62KLJLKY"
      }
    },
    {
      "cell_type": "markdown",
      "source": [
        "<a name=\"SVC\"></a>\n",
        "### ***Model 3: Support Vector Machines***"
      ],
      "metadata": {
        "id": "yh4ZdOo1gQrT"
      }
    },
    {
      "cell_type": "code",
      "source": [
        "from sklearn.svm import SVC"
      ],
      "metadata": {
        "id": "bIiF89nFgpbm"
      },
      "execution_count": null,
      "outputs": []
    },
    {
      "cell_type": "markdown",
      "source": [
        "#### **Model Versions**"
      ],
      "metadata": {
        "id": "C_NTWo2XL6Oo"
      }
    },
    {
      "cell_type": "markdown",
      "source": [
        "##### *3.1. Linear Kernel*\n",
        "In this code, we use a Support Vector Machine with a linear kernel to classify the tweet data. The SVM uses the default loss function for classification, which is the hinge loss. The linear kernel is used to transform the data into a linearly separable space, which can help with binary classification problems."
      ],
      "metadata": {
        "id": "MKCmxgvpgqRz"
      }
    },
    {
      "cell_type": "code",
      "source": [
        "Model3_1 = SVC(kernel='linear', probability=True) \n",
        "Model3_1.fit(X_tr, Y_train)"
      ],
      "metadata": {
        "id": "ivgSm2aMhQ-t"
      },
      "execution_count": null,
      "outputs": []
    },
    {
      "cell_type": "code",
      "source": [
        "probability_score(Model3_1, 0.43)"
      ],
      "metadata": {
        "id": "a89Ahjk2kyo_"
      },
      "execution_count": null,
      "outputs": []
    },
    {
      "cell_type": "markdown",
      "source": [
        "##### *3.2. RBF*\n",
        "In this code, a Support Vector Machine (SVM) model with a Radial Basis Function (RBF) kernel is used to classify whether a given tweet is about an actual disaster or not. The RBF kernel is appropriate for this model as it can handle non-linearly separable data. The SVM model aims to maximize the margin between the two classes, which is useful for our binary classification problem."
      ],
      "metadata": {
        "id": "DYygONyYhCEl"
      }
    },
    {
      "cell_type": "code",
      "source": [
        "Model3_2 = SVC(kernel='rbf', probability=True)\n",
        "Model3_2.fit(X_tr, Y_train)"
      ],
      "metadata": {
        "id": "fdT5MZ58jX_x"
      },
      "execution_count": null,
      "outputs": []
    },
    {
      "cell_type": "code",
      "source": [
        "probability_score(Model3_2, 0.43)"
      ],
      "metadata": {
        "id": "-Z8_ybghk177"
      },
      "execution_count": null,
      "outputs": []
    },
    {
      "cell_type": "markdown",
      "source": [
        "#### **Error Analysis**"
      ],
      "metadata": {
        "id": "urFbgLgCJIoO"
      }
    },
    {
      "cell_type": "code",
      "source": [
        "# Select model to represent Logarithmic Regression\n",
        "M3 = Model3_1"
      ],
      "metadata": {
        "id": "481WEvngJIoP"
      },
      "execution_count": null,
      "outputs": []
    },
    {
      "cell_type": "code",
      "source": [
        "# Call visualize errors to get an idea of what's going wrong with our model\n",
        "visualize_errors(Y_train_val, M3.predict_proba(X_v), 0.43)"
      ],
      "metadata": {
        "id": "ENR-zuDYJIoP"
      },
      "execution_count": null,
      "outputs": []
    },
    {
      "cell_type": "markdown",
      "source": [
        "**Analysis:**\n",
        "*   Though the amount of False Negatives and Positives within these models is somewhat equal, it does not take away from the sheer quantity present within the confusion matrix. A possible to address this is to apply some advanced tokenization techniques that could specify on twitter.\n",
        "\n"
      ],
      "metadata": {
        "id": "X5ohBN4hJIoP"
      }
    },
    {
      "cell_type": "markdown",
      "source": [
        "#### **Results**"
      ],
      "metadata": {
        "id": "t4OKOzW-JIoQ"
      }
    },
    {
      "cell_type": "code",
      "source": [
        "Y_pred = M3.predict(X_te)\n",
        "create_csv(Y_pred, 'sub3')"
      ],
      "metadata": {
        "id": "JYW5B44TJIoQ"
      },
      "execution_count": null,
      "outputs": []
    },
    {
      "cell_type": "markdown",
      "source": [
        "Kaggle Test Score:![sub3_score.png](data:image/png;base64,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)"
      ],
      "metadata": {
        "id": "GJvwkdv0JIoQ"
      }
    },
    {
      "cell_type": "markdown",
      "source": [
        "<a name=\"NB\"></a>\n",
        "### ***Model 4: Naïve Bayes***"
      ],
      "metadata": {
        "id": "N2oIpsqnidjT"
      }
    },
    {
      "cell_type": "code",
      "source": [
        "from sklearn.naive_bayes import BernoulliNB, ComplementNB, MultinomialNB"
      ],
      "metadata": {
        "id": "Szf28_xUi7rU"
      },
      "execution_count": null,
      "outputs": []
    },
    {
      "cell_type": "markdown",
      "source": [
        "#### **Model Versions**"
      ],
      "metadata": {
        "id": "4d63FVdbMDOS"
      }
    },
    {
      "cell_type": "markdown",
      "source": [
        "##### *4.1. Multinomial Naïve Bayes*\n",
        "Here we employ MNB, this model is a great choice as it is simple, and efficient. MNB uses the negative log-likelihood loss function, this is appropriate as its primarily used for probabilistic classification as seen with this problem."
      ],
      "metadata": {
        "id": "KlA8YNx2ijmI"
      }
    },
    {
      "cell_type": "code",
      "source": [
        "Model4_1 = MultinomialNB()\n",
        "Model4_1.fit(X_tr.toarray(), Y_train)\n",
        "probability_score(Model4_1, 0.34, X_tr, X_v)"
      ],
      "metadata": {
        "id": "V2GAUq7ah2Mq"
      },
      "execution_count": null,
      "outputs": []
    },
    {
      "cell_type": "markdown",
      "source": [
        "##### *4.2. Bernoulli Naïve Bayes*\n",
        "Here we apply BNB. This model is one of the best choices for this task as performs great in classifcation problems with binary features. Another great point about this model is its modeling of presence and absence of words in the text. BNB uses the negative log-likelihood loss function, this is appropriate as its primarily used for probabilistic classification as seen with this problem."
      ],
      "metadata": {
        "id": "2_xijoILisb0"
      }
    },
    {
      "cell_type": "code",
      "source": [
        "Model4_2 = BernoulliNB()\n",
        "Model4_2.fit(X_tr.toarray(), Y_train)\n",
        "probability_score(Model4_2, 0.49, X_tr, X_v)"
      ],
      "metadata": {
        "id": "ftASUpJPiwC-"
      },
      "execution_count": null,
      "outputs": []
    },
    {
      "cell_type": "markdown",
      "source": [
        "##### *4.3. Complement Naïve Bayes*\n",
        "Here we employ a CNB. CNB is an adaptation of MNB that is particularly well suited for imbalanced data sets. Though our dataset itself is not inbalanced, our results for a large portion of our tests are. As all our other models, CNB utilizes negative log likelihood loss."
      ],
      "metadata": {
        "id": "77gfQF9Wr7wj"
      }
    },
    {
      "cell_type": "code",
      "source": [
        "Model4_3 = ComplementNB()\n",
        "Model4_3.fit(X_tr.toarray(), Y_train)\n",
        "probability_score(Model4_3, 0.43)"
      ],
      "metadata": {
        "id": "0FqfKl5jr8sJ"
      },
      "execution_count": null,
      "outputs": []
    },
    {
      "cell_type": "markdown",
      "source": [
        "#### **Error Analysis**"
      ],
      "metadata": {
        "id": "zVyg6JXoJGKp"
      }
    },
    {
      "cell_type": "code",
      "source": [
        "# Select model to represent Logarithmic Regression\n",
        "M4 = Model4_2"
      ],
      "metadata": {
        "id": "MY2lEZFzJGKp"
      },
      "execution_count": null,
      "outputs": []
    },
    {
      "cell_type": "code",
      "source": [
        "# Call visualize errors to get an idea of what's going wrong with our model\n",
        "visualize_errors(Y_train_val, M4.predict_proba(X_v), 0.47)"
      ],
      "metadata": {
        "id": "FyaIh1fOJGKq"
      },
      "execution_count": null,
      "outputs": []
    },
    {
      "cell_type": "markdown",
      "source": [
        "**Analysis:**\n",
        "*   False Negatives, A=1 - P=0,  are over 2x as likely to occur than False Positives, indicating our model is more likely to qualify Disasters as Non-disasters than vice versa. This can be addressed by changing our threshold, data resampling, or more extensive feature engineering.\n",
        "*   Ambiguity: Some of these tweets may actually be incorrectly classified, leading to the model making some mistakes. (e.g., Indexes 6108, and 4444). A possible way to address this is through some extensive feature engineering.\n",
        "\n"
      ],
      "metadata": {
        "id": "89lOxBPQJGKq"
      }
    },
    {
      "cell_type": "markdown",
      "source": [
        "#### **Results**"
      ],
      "metadata": {
        "id": "nrjQcYLIJGKr"
      }
    },
    {
      "cell_type": "code",
      "source": [
        "Y_pred = M4.predict(X_te)\n",
        "create_csv(Y_pred, 'sub4')"
      ],
      "metadata": {
        "id": "hIc0l1UzJGKr"
      },
      "execution_count": null,
      "outputs": []
    },
    {
      "cell_type": "markdown",
      "source": [
        "Kaggle Test Score:![sub4_score.png](data:image/png;base64,iVBORw0KGgoAAAANSUhEUgAABY0AAABDCAYAAADQ6yojAAAAAXNSR0IArs4c6QAAAARnQU1BAACxjwv8YQUAAAAJcEhZcwAAEnQAABJ0Ad5mH3gAACWMSURBVHhe7d19XFRl/jfwz8Yus9mIiTfesAlsgbULmoGuBavJQyIqNWaL2oIYJmkaJmWKrGWmsT5joGRpuLK6qawaiYoPCJaBugqZwm8LyBBbuOOnxjhpw0pznzNzzTCDPMwMqFSf92snr3PNmfM0Z/aPj1+/5xc6CYiIiIiIiIiIiIiIJHeIP4mIiIiIiIiIiIiIGBoTERERERERERERUROGxkRERERERERERERkwtCYiIiIiIiIiIiIiEwYGhMRERERERERERGRCUNjIiIiIiIiIiIiIjJhaExEREREREREREREJgyNiYiIiIiIiIiIiMiEoTERERERERERERERmTA0JiIiIiIiIiIiIiIThsZEREREREREREREZMLQmIiIiIiIiIiIiIhMGBoTERERERERERERkckvdBIxpq5GXYLM9wpQJw19xyYg3NMwbTNtGbLT96NCLHZoW0RERERERERERPSTdntCY60Gaq0YyxRKOCnEmJrUZmFyYBLypWHc9nIkDTJM20aL4hQVnkqrFMsd2RYRERERERERERH91N2S0FhbU4780oP45FwxCq+Wo+IH8YYFJfyVj+CP9wZgpO+j8HVzFPM/Y50RGpelY3hEiqnKWMbQmIiIiIiIiIiIiFpz83oa/9CAuk+34dV3R+P+rVMw9cw2ZGpaC4xlGhRrDiHtzCKM2jocg9YtQuanNdC2uj61q7ESma8aAmP3oCD4GmaJiIiIiIiIiIiIWnVTQmN1xR4sfnc0BuWnI/M7jZi1Td21Q3g1fwLuX7cM2RX2beNW0VYVYM3zKgzu1xf33ie/BmL480uQXaYWaxgULxHvT87S9yk219Z7RnVF6YgaKNYbGI7n04pQ1yjebEF11hIsKJEG3aKxMDEMvQ3TtqkrQear45qdWzoKa8X7Zqy5DtqCheK9fkg+KSZN1Mh+QXz20XSUilkiIiIiIiIiIiK6dTo3NP7hEgr/OQUhu5dh/bUGMWlOCf87H0XcfRMx/75ZeCf4VSzTj5/E+Ds94S7WsqDdg5m7R+PJ7ceg7oJVx9qSFEQEx2Hl/jLUXXWCd38fuHRTo2L/e5gVMQ4rS8ybN9tPfWgJ/hyVgsLLYuJyJXJTYjB0WhaqWwqOa3djweICaaCAalkCgp0M0za5kIXJweOwYEuJdG5iDvK5pSAqMBzJJ5vOzdrroAgIQ0w3/SeQW1SmnzNRH0P+XsPQ99kRrIwmIiIiIiIiIiK6DTovNP6uHOvfG4+nq8ubVco6IrDXRKSGbcUXL+zBrmmLMF81BXGqJxH+0GMYrx/PwrJpmTj64kGcDJuD+b36wkV82qj467nov+HvKP1OTHQJauT/Ld3QL9gvATs+PYWD2dk4cTofS0LlJ/tVYk3ah61WDtti27sFGLgsG6fLy3HubD4yJnnp57V5SUjea1nRDGmP2a/OQ/5VQPH4Krwxyo7EuLEMa2KT9NtAzzAszD6Fc19K+z6ViTj9riuxft5m0SvZhuug8MeISMNTD6uzCiyqidVHc5GtH/lhXJDh/IiIiIiIiIiIiOjW6pzQ+LtSpP19OhZrLKuL3Z2m4P1xe/B+zBSofN2g+JV4ozV3OMLFdzTiYjbgkwkpmO+kFG8I323AqE3pKO4ywbEW9VfE0M0d3sZs1qEPxq8pxOlPz+JcRuQNAbg9FJMWYOGffODkIC1064Pg+avwch/De7m79lsE0+q9f8XcPK20XhCWzguDPUXGKPkQayrlgQIxK1chpr/YSs8AJL2ViMD+PvDtVopSfZsKW66DAoGjo6X/Si5kId9UbKzFqaLdhqHfEwj2NAyJiIiIiIiIiIjo1up4aPxDDbK3z8IKi3YUnoh5aAP2xk5E4D2OYs42Cjd/xD27C3kPjYa/mNPTbsOTW/eguku0qnBBvz+Iiti9L2Ho8BlY8G4W8s9cgLrRCU5OhorazhATFmAIWo0cfBA4SowLKlEthrhagJVzdkNuBhE8fwFUroZpW1WUFum3AURjxNBm5+HzLLZkZyMne5XYvo3Xwe8JvKAPvC8g91/6ZFr6XotQsMUwDH56RMutSoiIiIiIiIiIiOim62Bo3IDiD+Zi5rdmgfEdfTE7OB2LgvvCqcORtCO8g+dgU8hEBJpvS70MU3cWi1Dz9vJ9bgPenuCjD3TVlQeQuSQJk1XBGNCvHwbHpaOwM3pTyFqo0nb3DhIjIy0KVy1EptxSwm8BkiJFKbId1DVN/YZ/LVc3t8Om6+Dgg2BxbKUfFhkC7zPHsE0/EwZVaGfUZhMREREREREREZE9OhTrav8nE4uqqsSSzBOzg1Yj/qFmbSU6yGnAFPwtZLxFxXFp9TK8e6alh+3dYg59EJ6cjX+fLcTB7auwMD4a4V5yfwYt6vJSEDVtc1MVcBu+vy4Grfmv+NNMdXWRGAl1B7Ah44J+qKjJwqyxKkSoxGtKCgr17wDb5slzSchtI9BW9GgKnL9v6UF7zdl4HXxDIw3VxCVHUFgLFB/abPhLgFHhCO4pD4iIiIiIiIiIiOh2sD80/qEcmfl/R7FYlKuCVQOWIn5A5wbGRor+05H60CNm/YFrsOLINpR2gTYVWrUaWoULvAc9jpiEBXj74CnkJPoY3hShqIWCMpw1L5NurETpv8S4Fbknmyp/9aTPnCoQGwnwMlyXxu/1izJtbRlKz5i9yupMldnqSnmuDvVthMHevzdWMe9HcbNd44vNiNKH0S8h25BR69l0HXxGYEp/eVCA/QW7UbjXcHSqUcPs68FMREREREREREREncLu0Fh9bCveMQs+Xe6ehVeC3MRSJ6n5CNmnNWIBcA+ei8V3m/VI/u8GbD15G6uNtUVY0K8vfvfQQAz/q7EHsEyL+m/UYtwHvUXlbFM7ic1IXlKA6stqqGvLsG3eDCSfEW+1ojrlJSQfFdtsVKN08xKsFJ/xHxVgqNp1eQKrT53C6ZZeOQsQqF8biFkvz63EGJHAa0+m46mB/RCRdADVIkhWBIQhpps8uoCVLy1BofF0Gi9g23JpWQ6iL3vDW/7KbbwOBl4IHuenH+Uvnoc1+vA5GqpQRsZERERERERERPTzdP36dZR8VorDHxV1ykvelrxNW9kZGtdg39lDaOpu4IuZw0bDvUPNLpqpOYQ521/FzMNTsOJTY3DsjPCQ6QgWS7LM4j1WtX+4KRQBGDfD8AC46owYDAgUrSCGByJKtInwfiUSweI5cC6hkVDpg1igYlMcHh04UP+ZxGNBiIsyzLcm/HEfZMYMxL339cW9fQciYmGBIZz1mo6//Em0knBQwKmnU8svZ4XpQXqKHoY5hb5XcR0+SE9B8WUtSre+hO2f6VfRn1vS356FtzyufA9RD/XD4IhwDOgbjMQ8ec8KqBKj4Stvw8brYOQ+5AlDy5GrWv25KCaFIbDZOkRERERERERERD8XZZ9X4vK3xiLMjpO3JW/TVvbFvNXHsO87MZa4uMVgzG/FQmfQB8aLsE3feqIGaflTsOK0qCj2HI3n3Myqja/tQaF5W+VbzPf5bBxcFg3/nmhqCVEpfbE9/RCzLBc5z4v2DLKeYVi6MxnjfZqSUSe/aLz9j0SE3yUmWuE+8a/IWRRm1rpBAd8JycjZkQD/DgWtLggcFaQPlBU+0xFsdriKQYnYkZOMGD/Rm7isEvItq3ANwstb8rF6VNPR2HQdjDxHYJzpWX4KjA/1NwXbREREREREREREPzf/e/GS/s+7ezjhXs8+HXrJ25AZt2mLX+gkYmy16sMJGHLa2M3YEXFD92D+ILMgtyMsAmPhjkeROnYRVPoeDIC2eDX+eGSXqdI5uP9W/O2xTm6NYQd9T1+5vYNc8evUTvx5VQ21gxPaW+0GjVqo1Vqgmx2fbYt0PFqFsfq4BfLxyuXAVpybTdeBiIiIiIiIiOjHprEOxbs+RG7RERRWAN5/GIaA8BEY49en9WzFSF2CzPcKzP4Ff2t8MS4hzNCS1OhyJfL3foiCowU49Z8+GBgUAP/HRkDVv+kpYC1RVxbggw+PoKigGNW/8UfwkGFQjQqCt0Ur0Wbs2Zf2Aop37xfXpR7uDwYhIOgJjAnyglN714X05JYSMkPwa/Ht2+xcVbX0MnQBCHk0QP+ntewIjTXIzxyNZy6KRTyJ91+YhcBficWOsCIw1tMew+L0uVgvFuH8Ks5MeowPUCMiIiIiIiIioptK+8VmzHp6IXIviwkz8r/izvhHAgLbCqlqszA5MAn5YrF1z2LHl4mG1p6S6r1JmPxCFirEsjmnIYn4x7pn4Svaopo01iH/r1PwfEaZ2TOojJwQviwbbxvbnpqxZ191BUsQ+8J7KL0qJsz1lNugrkdcfxYXtqerhMZ2tKeowlnzH4VzP/S7lYGxTNEPf+wlxrJLX7R4ExMREREREREREXWa2t14fqxZYNzTC779feAiAlRtWTqiYjejQv4X2J1Ie3KJWYirgMugxxEXFWaqFFYfXYKnXsxCtcV+tShOnYjJpsBY+pyPD3y9jIm2GrlzwrGgwDJOtmtflZsxbbIxMJY+ExqNF+KnI2aI2NflIiQ/Pa/FoJ26JttDY/VFfGMW7Lp0d+t4ha8tgbGeEr17mLfDqME3trfmICIiIiIiIiIispIWhe/MQ76opFWEJuOjE7nIyc7GicJMxHkZ5lGyECv3tvEgM9dIZHxZjnMtvE6vedz0vCdF1CPw1Y8uYNtf3zOFuMHLcnFi+yokLVqLgyfysVA8L0qbtxAbiswC4KosvJlmfACaF+K2n8KJnGzkHDyFj5INz7eSzynztfdQagqA7dtX6YH3YGxk652wHSfWL8DLCQlYmFmIjChxRld3Y3tB+005qGuwPTS+dgXfiKFs4N3OYtTMf8Wf7bE5MDbo7WQszpdpoL2xxp6IiIiIiIiIiKhzaIuwf5MxgArD0mWRcDf26XUKwMuJkWIByN2134qexc00liEzZbeoCvZD0hQR7KrLUFyinwT6JyLJvJ2EQx/ExD0rFrTIzDoCY1xdUZBlCnLdE1YhaVBTawj3yES83F8sXEhHtnH7du5LW29ogSALDvARI5kC/QaYtUXo5ApsunnsaE9hhe+qsG3zcIz6Z7G40VthZ2BMRERERERERER0S5WVYJsYIiAI/s0eIqf4QxBUYoyCMpy1scBRvX8D1ojCYMWkBIz3NIxxtd4UzqKXAj3E0KR3H1GRLMkrFVXCdSg9WqYfycIHmQe5EgcvBIYbA2EtCkvFju3aF+A7JFpULgO5uUVmeaAWZ08bevTK1c7+Pm0/sI+6js4PjeXAePsUzPm2AaXVCXiyteCYgTEREREREREREf1IqGuqmzKu/t64Ib5ycoG76eFwF/CNLf175SrjJWZVxs8EmEJYuPSBtxii4AAO14qxUHpgM0rFGFeNR1iH6s/FEEHwulcMzfR2NW0VpTUiKrZrX4BCfjhevI/+mKsz4jA0biFWpqRgQUwgJm+R11PA/5VViGuWXVPXZXtofGd39BZDWe63ls2Eq0+sxvJvG8SSdDNVJ2DCzlLL4LgTAuNv1MYCe5kSiqYKeyIiIiIiIiIiok6lvXpFjFrTB30GiyHqbWqlqt67FitFhweLKmOZgz/CnzNWBRcgcWISMk9egLq2EvlpMfjzcmPfYpkW3+v3q4W6qWNEi1zcjU2YJdrvDdmdXfuSKeA/cwN2LIuErzRfl7cZa9LSkXlUDqN9MP6tbPzjOUOoTD8OtofGTr3Q2/xTV2qaytYl7sFLsel+X5gXmxdXTcfU3eWGm69TKow1+Ka+KZjGHW7ofbcYExERERERERER3XJa/f8Melhf4ChXGS8/IBaaVRnryYHsqqYH7VVmYcG4YAwIDMfklGK4JyYgTrwlr/tra/dr/jwyxa/FPu3cV10BklXBiJiTpa9EdvIKQ8zkx+HvKq9Qhm0vhmPA0+koFQ8RpK7PjvYUnuhn3rPl0lmctXjonSN8R6/Gu/f1tQiO8yumYOr29M5pSaE9i08uirHs7vvh3fmNNoiIiIiIiIiIiPRc7jGrzK2psyiiNKhDpbF9rw3arDI26uaHpOxcrH4uDN76XE4BF58wvJyZj5xJPk1ZdR8nEf66wMv0/LkK1Fk2CtCr+9q8atiMzfuqw7a5cVhfJr+jQHByPk4fXIuF81dhR+Ep7HjOcN20J1Pw1HLzfsfUldkRtSrh3cdfjGW7cPi0WdWvniP8Vek3Bsdfb+uUHsba0mP4QIxl4ff4wkmMiYiIiIiIiIiIOp35Q+BKKlDdKMZGlaUoFEN080FfVzFuS7tVxgbay2qotS4InroKB0+V49yXZ3EiZy1eGOICfFGGfLEehvmInsQu6H2ffiC5gNLK5hG3/IC6AjEGgh8wtqSwY191x7DftKloTIls2pYcIvtHP4tAsaTddKSpJzJ1aXbV57p7PWr6smXrv2jpYXctB8cmdj/0rgGnvtiDOrEE6eca0tdNjImIiIiIiIiIiG4CrwCM6y/GF9Kx/WPLNKx073umQFQRHQRTyWWjFurLLdfXWlVljEpse2YgBgyUXxORaV4g3HgB21LTUa1fUCBmhDF0ViAwNFo/kuX+7UNUmIfclw9g+xYxRhBGBBjTOzv21fi9fsagGnU35NNa1Iuh7PvmYTt1SfY1dfB8BGPuEmPZ/9uAbV+KsQURHHs2u+PtDowlVXvwbo1ZZfNdwxFoz3aIiIiIiIiIiIis5oUxUx8XoawWmS9MxMq8StRdvoDid2fgzynGJ8/5ISnSzzBsrETm03IA2w+/i8uyrE7WlmCNqco4CAuntlxlLO83eJzYHkqwYFwMkv9ZgMK8LCTHqpCYJwJpv0RMDGjagmJoJF42dtQoWYjn521GcZUadZW7kTxxHnLFW4qoKIwxVUXbsS/XAAQZP4IDeO3VzSitM6ynrSrCynlLmsL0x/3Rz0EsUJf2C51EjG2iLlyEkOOHmip+nebg5LOjW64qRgOKd07Bk1VVHQuMcQm5G8dj6rfG0NgRMYO3YdEfncUyERERERERERHRTdJ4AdkvqjBr740djQ0UCF6Wi4w/iRYNtVmYHJgkWjoEYUnheowXAW3dP+MweI6hr4P7c9txMNGvldBYIlf5TgtvCm2b6yZtO1fatnlnCIm+j/AzbTyAzutZ7MhOhH83sSyzZ18XpPMMl86zrQfdeUXi7Y3JCG92jGTp8EeGxtj3evaRXh2rlD1XVS29DH+ZEfKoqcm1Vex+fJzTIxMw1fxOVi/D/MM1YqE5R/iP3YBd943uQGAMVOcvxXxTYCxRxGDCYAbGRERERERERER0Czj0geqtXGxJCIKLedAq6xmgf1icKTCWuQRgRKghQHMa9QRCjBW9V4uwPtXYCDgIM55pIzCWSfsdvy6/hf06wf/JRGzJvzEwlikGJWDHzmTE+DV/GpgCvhOSkbOjWWAss2dffSKRUZiN1c+1dF28EJ6QiRO5DIx/TOyuNJZpz6TjyUPbzBpYuyE+JBOzBziK5c4j72uCtK9isQx4YvZjGxDfv/P3RURERERERERE1Ca5V7G6DtWVWvT26gOXnq3Evvr1AKfW3reD/LA6uQ5Y4eQEhZXtHrTSQajrKvHNL73g7uoEJysPx659ic/AQQEna3dEej/6SmOZov8ULLboV1yDtMNTkHbGrBq4E6hPb8Azh80DY8DfcxYm+TIwJiIiIiIiIiKi20AORHv2ge8gr9YDY5l+vc4NThU9naRtWh/iyuTQ18XLD76e1gfGMrv2JT7DwPjHq0OVxno/1CB7UwxmmreNgBtiBizF/BDPtkvr29WAivzVeOXTPRaBscvdc7ArejTcfyUmiIiIiIiIiIiIiH7kjJXGPe92wt09eujH9vq2vh6XvzX037a10rjjobHsu1KkbZqOFc36Y7soJyJ1zBQEtvx0vLbVFWP9h69isVojJgTFeOyKng7/5q1YiIiIiIiIiIiIiH7EPiv9HP978ZJY6hz/p5czHvR9QCxZp3NCY9l35Vj/j+lYrLmxNYW/80Q8M2g0wn/vBkVbDTF+aEDd/xzEB6d24Z2L5agT00YuyinYNH4ifBkY0+3U2ABNgyOUd4rlznBNgwZHJRxt+KceRERERERERET003L9+nV9cPxtvaFCuKPu7uGkD4x/+ctfihnrdF5oLPvhEgp3zsHM6hsDXwNHeCseQfA9nvi/6AV3z+6or/oKamhQXlOMwmtVqBZrWnJEoPsipKoegUtXbEnRKB1/dipWZR7F2Xo5NHdEv8BIxMXHwt/4VMzbqhY5M6JRFXsIMwaJKSs01GsA5c0PMs+ufgzPZ4sFidLZFff/LhSTOv36lWBt8EZ4vp+KiBu2a7hGS8vEYgsmLJevnwZHXhuD+cdVeHt/PPqJ9zpEcxhLH0/GgbHLkRfvJya7mMZLKH4nCX/JqkCE/jqIeSIiIiIiIiIi+snp3NBYUFfsQeqh1Vh/reMPxHO5czReDZkO1f1KMdPFNNbiYOJkvFE1GAmzohHk6wrH+nIc2LgSawudkZCRioh7xLq3jT2hsRywvgLcgoBQHxpfS8K+6YP1yw115Ti17x0syXFE4qZUDO+04Lit0Fjar0aDhkaxcDIVIxcDyz6Yif5iytEYoNeWobjeFf4POBve6ASXyo7josvD6GtPK5ebrOHzbKS8/g7O9B2M33x8FJ4MjYmIiIiIiIiIftLaahZhNyfv0Zj/3C4c/eN0xNxlX9jrftdjWBS8FZ88O6frBsYSTV4alpSH4q2M1zE20BvOPZRQevhh7IJ1eGtkLZau3odmXZn1rQg09dLrmlg2I1f36oPLBrGOWe4uh5rynCnYFExhp9w2Qf6MvtrZCqb1m21TP38Z8lbk42lpe8ZjaaEbiX3u7AmlfO2kl7O3H4bHr8Dih8uwPrtZ6a/xurRyTM2vjf5aW3mMcihsPAZlj+7STHd0Ny2bVVw7e+B+j6bA+IbvrLUdtnHsSg9feDbPoFv7fmTytuT7R17nfBnKzUv72/qcHb44sA/O8RnY/IYKnmLO6IZ7z/yeNt7n1t4jxvXb+IDhfjTbZ0vrtvH7IiIiIiIiIiKi9t2USuPmtDXlyC89iE/OFaPwajkqfhBvmLvDGYHd/DHw3gCM/P2j8L3HUbzRlRkqeD8K3YxlY1soXa09iq1ZVzBw6kj0lU+nsRZHFs/GG4UaeLo4ouZrDdyCZuPN+SFw0weShkrYXvF9cSDzY2lZg/Jrzoh543XcvycJS0od0etaLargh9cylosKXFFFPHY58M5fcMDBGd3ra1HTYyQWp76MAH3l6o2Vxg1nNuKVuVvwxZ2ucGu8hPIGXySkLMDYB5RA3T4sTdiIgq8vAc7S+3eG4qXNsYZWDJoybJ09G2vPK9G3RwOqahsQMDUVr03whr3fmL7SGMvx8SzL1gxVG8chun6emJeuxcbZmJl5Hr3ucYaj5hKq7hyM11JexzDz69CsmlredqaH8ftpu9LYwsk0DH0FeDv/xhYUl3bOhOp8rDgus+9sQx7QQzpu6Zp4jn0T6+L9xDWx/djb/H4k+mOoGIq5FzZi6RnpO4g3nOONn/PAjKUrMKF/B/7iRQ5oTfenefW5OO6geNRs2Yj/ODSgXLplhs1KxYTaFXhln3R/QzoG6R6OW5KBGL9W7hCL34USDZdqcdEjFqkpUehr7Bv99WEsnb0COfWG+64GoVg+BXh+pwey16qgz9vb/X0REREREREREZFV5ND4ltNc0dXXm72uaMUbPzLXj+nWBEXpdnwpltuk1Z1JjdSFxG/X/ee6mLpSrnt/eqgual2pmCiWtheqi1x6THdFrPNVRqxuSJBKt+aTK4aJ6zW63dJnIk2fMSyHjJyt210lpq5f0Z1KidQNmf6B7qJ+wrDOmn/pF3S6i3m6hWGRujXHxDYl/9kerwtRperOXBUT4lhMn9G7qCuYO1IXldJ0fLqq7bpXwqTj+5f93+GZlFDdkJRisWR0UXdgdqgudpPhpLT/StVFRSbpDlzQL0qu6AoXjdSFmD7X7BwFeduv7KgRS/I5xet2GxfbIu1vSJB0PcSiuYs74s2O13CdLL5X+ZpI39km8RXZfOxWfD/6YwiyXEdX84H0XVjOXTz0pi4yLElXYLgROqj5PWE47iHTm879irS/EGmdV9433ozSvbhUpRsyN08atew/u2frwmPW6b4wrnC9Srcj1vx7Myw3v+/+MnKk2T1uze+LiIiIiIiIiIiscVPaU7TrLiWcnMxeyh9DVXEL6uSqX2c4Gqsh23LtBA7ubMCkuMimqkelNyZMi0TDzjycNbURUCIi4mEoxTqe/eVq1lAMCxSVog6uCAz1Qc01rWFZ6KWKRYSHWHBQwj8mFsPKslBwTsyZqcrJwJGgmYh7uKn61C1yNmYo96Ho32KiJef2YVPJELw0ten44BGJGVFK7CwqFRPNydWf0zA/s0zf7qJVX5ehuPC44bVvC1KmReON0iGYJE7KcVA8Nm9/E8NN/aGV+O0DHmgoP49LYub2ccSEWLPv1WMoHvXR4Kxcdiux9dit/n4enoZJZutUHchC0YOxFnPOodMQ9+Bx7CmoFTPNWfn9tGG4aqTp3JW+vhgIHzwaZLwZpXsxJBS4cqXV7btFLMe+TVPR13jYDh747e+AovM1huVzHyPnXAhmNLvvJkWY/f+G1b8vIiIiIiIiIiJqz+0JjX8qXFzhiUtosKZ3av1F1GAo+vmIZSNXV/y2oRxfmXrSesDZjuerBTzgLUaCsy/876lFzUWxbObKpVrg+DpMi47GZNMrCZvqGlB+rrVwUXLxEspxAmvizD8XjYU7pWvw79bCWw1qPqtAUUVt26FkaTbWpKfpX6vSNmInIpHx/usYZnYtGr4uQc6GlXhjmrTfp8cgOr1CvHO7ecPNTQzNNTadsS3HbvX349oTTfGw4XP+g/0s5qQbAW4ejk0B7A2s/H7a0MvZco/20FQcxs60ZMyXz/WpUXhxn3hDJt933n3x22Z/OdPL1RhMS6z+fRERERERERERUXsYGneEgxvc7q1F8b9bqXXVnMfZwjJcMqVxWmjtTebacaWh+YblB4qJYQvcAiPxwvR4i9eCBW8i5uF2EuseQ/F0s8+9MGcB3prycLOw0sgbE7YfQt4bIa28L4TNQ8bmzfrX5hWR8Pz8Y5wxu6yavNehmrwSxQ4+iJj6Olas247N8c0Twq7JnmO39/u5cs3WG8zK7+cmKt8YDdXM7ai55xGMTUpG6qYP8JZKvGkknVf7Z3bzfl9ERERERERERD8nDI07xANBET44snELzrYQ0FbtfB3PbyiFVv5X9C4e8HQ8gfJmBaYN/y7FqR6+eKC9B7O142zFeTESastxtt4Hnn3Eshm5QrNK0x39Ah+Gv9mrn5/0ausBhL1d0a/uCpQPWn7O389Perna/SC8G/hEYUZoLda+cxjGy/rVmaNwi0rGa7EjpX15w7mHtDezSl6jqvPmldK1+KpcDG8ja4/dyN7v5zcePig/U2q6Zgbn8UVJA4b79BXLXU0tPj9Zi4g5qZgxNgT+Ph5Qyu1qzC9PHw8EfJ2HUxatVjT4vMzsx3STf19ERERERERERD8nDI07yFmVhLmu+/Bi3EocrKiFpqEBDfXnUZw+DdM2ahATr4K+c4GDHyKinLF+URqKjRW0tYexNu0oBsaq0NFI70rOCqw9LuLChvPISX4Hpx4eg6AWwjK3sGgMP74OKfvOo0H0er2Ul4zJo2Yix5S59oLbPUBVRQU09SLB8wjFhIdPYO2yfagyhnrSOaRMGoU5O9toa2EzJQJiYnH/8VRsOmnYkeJOJapOHkeNON6Gc9lYv8U8IXTFAw8qUbQ1A0XnNdIxS99BWhp2doG2BO0fuyXrvp8bOYeNw9jP0vBGlvhcowblmdJ9oVFh7NDbVUfcHiW6dwdOfVoCjThXzcl3sN68PYXrSMSM1SBl7uvYefI8NLUVKEqbjfWfmQXoN/n3RURERERERET0c8LQuKMcXBGRkoHlQ6uwZkY0Ro4YhdAxk/GX4x6YsS4DcX5NwZZnVCreHlmKvzz1GIYGS69JqagZuQKLVR0vg4yY8zo8/znOsN0R07C+Wywy5rfScsA5BImpUUDmNIQ+ZjgW1crzCFvyOiJMh+KBiFmRuCKtM3LMQhypl+ecMWx+KiY4bMHkEeIcnl6Br4LeRGInnIMFDxVmqICt6VmoagT6RiUjrmEjxonjHZl0Hv4qyxYP8joznI9izqQx0jFPw06XWMQFijdvI2uO3YJV308LlEOQsD4evXaKzz02BjPzXPFaSjz6WfOwxttCiWHxSeh/fCFGinON3OaK0SPF23qO6Dc9Axmx3VG8OgkzZ6/AsXtmY8EEs57Gkpv5+yIiIiIiIiIi+jn5hU4ixtQJGuo1aLhTCflf2LeqsQEaTQMclUo4Oog5u9UiZ0Y0qmIPYcYgaf8aaf8O0v6tDQmvaaBpdDS0BGiF3C7ZsfnbnXoONrDieFs+4C6g1WO3/A4tWHO+LbD5PugC2jxmuQq52X12aedMqPJCkb1WBYtOz7fr3iQiIiIiIiIi+olgpXEnc+zRTmAsc3CEUlrvZgRaclBmU1AoB9ztHHCL+etNPIc2WXG8XTIwlrV07HLAeb4ExRVKdO8m5sxZc74tsPk+6AJaP+bzOJgwBnOyzPp211fgQF4ZPAf5WgbGstt1bxIRERERERER/UQwNCa6ner24Y1JafgqYgEmtNGx4ufNA8PiVMCWaRg6YgwmPzUKQ8fMxIHeSVge4y3WISIiIiIiIiKizsL2FET0o6Fv/yIP2msBQ0REREREREREdmNoTEREREREREREREQmbE9BRERERERERERERCYMjYmIiIiIiIiIiIhIAP4/h3hlSAg5OHMAAAAASUVORK5CYII=)"
      ],
      "metadata": {
        "id": "ZtgI2DyxJGKs"
      }
    },
    {
      "cell_type": "markdown",
      "source": [
        "<a name=\"CNN1\"></a>\n",
        "### ***Model 5: Convolutional Neural Network (One-Hot Encoded Location and Keyword Features)***\n",
        "\n"
      ],
      "metadata": {
        "id": "sel6Kv9WO2PK"
      }
    },
    {
      "cell_type": "markdown",
      "source": [
        "**Description**"
      ],
      "metadata": {
        "id": "hMmlLzN9eHHc"
      }
    },
    {
      "cell_type": "markdown",
      "source": [
        "The code defines a function called CNN_preprocess_data() that preprocesses the training data by tokenizing the text data, padding the sequences to have a fixed length, and one-hot encoding the categorical variables. It then combines the text and categorical data and pads it to a fixed shape. The build_model() function preprocesses the training data using the CNN_preprocess_data() function and then defines a convolutional neural network (CNN) model with an input layer, embedding layer, convolutional layer, pooling layer, dense layer, dropout layer, and output layer. It compiles the model using binary cross-entropy loss and the Adam optimizer, and then trains the model on the preprocessed training data using three epochs and a batch size of 32. Finally, it returns the trained model. "
      ],
      "metadata": {
        "id": "30QHUHaAeE6b"
      }
    },
    {
      "cell_type": "markdown",
      "source": [
        "#### **Model Versions**"
      ],
      "metadata": {
        "id": "HlWE0CUUMK8g"
      }
    },
    {
      "cell_type": "markdown",
      "source": [
        "##### *5.1 One-Hot Encoded Location and Keyword Features*"
      ],
      "metadata": {
        "id": "KD0CGsBdd4IO"
      }
    },
    {
      "cell_type": "code",
      "source": [
        "def CNN_preprocess_data(training_data, tokenizer, max_sequence_length, fixed_shape):\n",
        "    X = training_data.copy()\n",
        "\n",
        "    # Tokenize the text data\n",
        "    sequences = tokenizer.texts_to_sequences(X['text'])\n",
        "    word_index = tokenizer.word_index\n",
        "\n",
        "    # Pad sequences to have a fixed length\n",
        "    data = pad_sequences(sequences, maxlen=max_sequence_length)\n",
        "\n",
        "    # One-hot encode the categorical variables\n",
        "    location_one_hot = pd.get_dummies(X['location']).values\n",
        "    keyword_one_hot = pd.get_dummies(X['keyword']).values\n",
        "\n",
        "    # Combine text and categorical data\n",
        "    X_processed = np.concatenate((data, location_one_hot, keyword_one_hot), axis=1)\n",
        "\n",
        "    # Add the correct length of the data\n",
        "    X_processed = X_processed[:, :max_sequence_length + len(location_one_hot[0]) + len(keyword_one_hot[0])]\n",
        "\n",
        "    # Pad to fixed shape\n",
        "    X_processed = np.pad(X_processed, ((0, 0), (0, fixed_shape - X_processed.shape[1])), mode='constant')\n",
        "\n",
        "    return X_processed\n",
        "\n",
        "def build_model(X_train, Y_train, tokenizer, max_sequence_length, fixed_shape):\n",
        "    # Preprocess training data\n",
        "    X_train_processed = CNN_preprocess_data(X_train, tokenizer, max_sequence_length, fixed_shape)\n",
        "\n",
        "    # Define model architecture with fixed input shape\n",
        "    embedding_dim = 50\n",
        "    input_layer = Input(shape=(fixed_shape, ))\n",
        "\n",
        "    embedding_layer = Embedding(len(tokenizer.word_index) + 1, embedding_dim)(input_layer)\n",
        "    conv_layer = Conv1D(filters=32, kernel_size=3, activation='relu')(embedding_layer)\n",
        "    pooling_layer = GlobalMaxPooling1D()(conv_layer)\n",
        "    dense_layer_1 = Dense(32, activation='relu')(pooling_layer)\n",
        "    dropout_layer = Dropout(0.9)(dense_layer_1) #Mitigates overfitting\n",
        "    output_layer = Dense(1, activation='sigmoid')(dropout_layer)\n",
        "    model = Model(inputs=input_layer, outputs=output_layer)\n",
        "\n",
        "    # Compile the model\n",
        "    model.compile(loss='binary_crossentropy', optimizer='adam', metrics=['accuracy'])\n",
        "\n",
        "    # Train the model\n",
        "    model.fit(X_train_processed, Y_train, epochs=3, batch_size=32, validation_split=0.2)\n",
        "\n",
        "    return model\n",
        "\n",
        "# Train the model\n",
        "tokenizer = Tokenizer()\n",
        "tokenizer.fit_on_texts(X_train['text'])\n",
        "max_sequence_length = 50\n",
        "fixed_shape = max_sequence_length + X_train['location'].nunique() + X_train['keyword'].nunique() + 1\n",
        "model_5 = build_model(X_train, Y_train, tokenizer, max_sequence_length, fixed_shape)"
      ],
      "metadata": {
        "id": "FbQkqDZQOUUq"
      },
      "execution_count": null,
      "outputs": []
    },
    {
      "cell_type": "markdown",
      "source": [
        "#### **Model Evaluation**"
      ],
      "metadata": {
        "id": "RrEuXfZ9QZ4O"
      }
    },
    {
      "cell_type": "code",
      "source": [
        "# Preprocess training and validation data. Predicts probabilities and sets values to 1 or 0 based on the threshold of .5\n",
        "X_train_tokenized = CNN_preprocess_data(X_train, tokenizer, max_sequence_length, fixed_shape)\n",
        "train_prediction = model_5.predict(X_train_tokenized)\n",
        "train_prediction_binary = (train_prediction >= .5).astype(int)\n",
        "\n",
        "X_train_val_tokenized = CNN_preprocess_data(X_train_val, tokenizer, max_sequence_length, fixed_shape)\n",
        "val_train_prediction = model_5.predict(X_train_val_tokenized)\n",
        "val_train_prediction_binary = (val_train_prediction >= .5).astype(int)\n",
        "\n",
        "#Scores the training and validation predictions based on F1 metric\n",
        "score(model_5, train_prediction_binary, val_train_prediction_binary, predict=False)"
      ],
      "metadata": {
        "id": "h90HLtgdQqmM"
      },
      "execution_count": null,
      "outputs": []
    },
    {
      "cell_type": "markdown",
      "source": [
        "#### **Error Analysis**"
      ],
      "metadata": {
        "id": "YO9ph9ryJFFj"
      }
    },
    {
      "cell_type": "code",
      "source": [
        "# Call visualize errors to get an idea of what's going wrong with our model\n",
        "visualize_errors(Y_train_val, model_5.predict(X_train_val_tokenized).reshape(762,), .47)"
      ],
      "metadata": {
        "id": "MndALB8rJFFk"
      },
      "execution_count": null,
      "outputs": []
    },
    {
      "cell_type": "markdown",
      "source": [
        "**Analysis:**\n",
        "*   The False Negatives and False Positive ratio is actually very close to 1:1 although we get more False Negatives.\n",
        "*  Overall pretty well balanced in the ratio.\n",
        "\n"
      ],
      "metadata": {
        "id": "0Y8TpLGKJFFk"
      }
    },
    {
      "cell_type": "markdown",
      "source": [
        "##### *Fixes*\n",
        "\n"
      ],
      "metadata": {
        "id": "C31hzDuRJFFk"
      }
    },
    {
      "cell_type": "markdown",
      "source": [
        "\n",
        "\n",
        "*   Overall, this model tends to get too good at memorizing the training data quickly because of its small size and the optimizer used. To fix this and make it perform better on new data, we can shrink the layers and adjust them, and also add drop-out layers to the model to prevent overfitting. And to get the best results, we'll keep the number of training cycles limited.\n",
        "\n"
      ],
      "metadata": {
        "id": "wuhdmeYe1ryd"
      }
    },
    {
      "cell_type": "markdown",
      "source": [
        "#### **Results**"
      ],
      "metadata": {
        "id": "Sa87oe_sJFFk"
      }
    },
    {
      "cell_type": "code",
      "source": [
        "# Preprocess test data\n",
        "X_test_tokenized = CNN_preprocess_data(X_test, tokenizer, max_sequence_length, fixed_shape)\n",
        "\n",
        "# Make predictions on test data\n",
        "X_test_prediction = model_5.predict(X_test_tokenized)\n",
        "X_test_prediction_binary = (X_test_prediction >= .5).astype(int)\n",
        "create_csv(X_test_prediction_binary, 'sub5')"
      ],
      "metadata": {
        "id": "BZ2rKvYmJFFl"
      },
      "execution_count": null,
      "outputs": []
    },
    {
      "cell_type": "markdown",
      "source": [
        "Kaggle Test Score:\n",
        "![image.png](data:image/png;base64,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)\n",
        "\n"
      ],
      "metadata": {
        "id": "yvQ26PHvJFFl"
      }
    },
    {
      "cell_type": "markdown",
      "source": [
        "<a name=\"CNN1\"></a>\n",
        "### ***Model 6: Convolutional Neural-Network (Weighted Location and Keyword Features)***\n"
      ],
      "metadata": {
        "id": "zQuFiTlQO78z"
      }
    },
    {
      "cell_type": "markdown",
      "source": [
        "**Description**"
      ],
      "metadata": {
        "id": "2ZGFa5tRfV5e"
      }
    },
    {
      "cell_type": "markdown",
      "source": [
        "The code represents a function CNN_preprocess_data() that preprocesses the training data for a convolutional neural network (CNN) by tokenizing the text data, padding sequences to have a fixed length, and replacing the location and keyword columns with their corresponding weighted representations. The weights are calculated by dividing the count of each location/keyword by the total number of location/keyword entries, respectively. These weighted representations are concatenated with the text data and the resulting matrix is padded to a fixed shape. The build_model() function then defines the architecture of the CNN with an embedding layer, a 1D convolutional layer, a global max pooling layer, two dense layers, and an output layer. The model is compiled with binary crossentropy loss, Adam optimizer with learning rate 0.001, and accuracy metric. Finally, the model is trained on the preprocessed data for 2 epochs with a batch size of 32 and validation split of 0.3. The weighted location and keyword data are important because they provide additional categorical information to the CNN, which can improve its accuracy in predicting the target variable."
      ],
      "metadata": {
        "id": "N9Ny4gP1eZKw"
      }
    },
    {
      "cell_type": "markdown",
      "source": [
        "#### **Model Versions**"
      ],
      "metadata": {
        "id": "0h_JA1d4Mbno"
      }
    },
    {
      "cell_type": "markdown",
      "source": [
        "##### *6.1 Weighted Location and Keyword Features*"
      ],
      "metadata": {
        "id": "Yo5Hf2ZlOax4"
      }
    },
    {
      "cell_type": "code",
      "source": [
        "def CNN_preprocess_data(training_data, tokenizer, max_sequence_length, fixed_shape):\n",
        "    X = training_data.copy()\n",
        "\n",
        "    # Tokenize the text data\n",
        "    sequences = tokenizer.texts_to_sequences(X['text'])\n",
        "    word_index = tokenizer.word_index\n",
        "\n",
        "    # Pad sequences to have a fixed length\n",
        "    data = pad_sequences(sequences, maxlen=max_sequence_length)\n",
        "\n",
        "    # Convert the location and keyword columns to lists of strings\n",
        "    location_list = X['location'].tolist()\n",
        "    keyword_list = X['keyword'].tolist()\n",
        "\n",
        "    # Assign a weight to each entry in location and keywords\n",
        "    location_weights = {}\n",
        "    for loc in location_list:\n",
        "        if loc in location_weights:\n",
        "            location_weights[loc] += 1\n",
        "        else:\n",
        "            location_weights[loc] = 1\n",
        "    location_weights = {k: v/len(location_list) for k, v in location_weights.items()}\n",
        "\n",
        "    keyword_weights = {}\n",
        "    for kw in keyword_list:\n",
        "        if kw in keyword_weights:\n",
        "            keyword_weights[kw] += 1\n",
        "        else:\n",
        "            keyword_weights[kw] = 1\n",
        "    keyword_weights = {k: v/len(keyword_list) for k, v in keyword_weights.items()}\n",
        "\n",
        "    # Replace location and keyword columns with weighted representations\n",
        "    location_weighted = []\n",
        "    for loc in location_list:\n",
        "        location_weighted.append(location_weights[loc])\n",
        "    keyword_weighted = []\n",
        "    for kw in keyword_list:\n",
        "        keyword_weighted.append(keyword_weights[kw])\n",
        "\n",
        "    # Combine text and categorical data\n",
        "    X_processed = np.concatenate((data, np.array(location_weighted)[:, np.newaxis], np.array(keyword_weighted)[:, np.newaxis]), axis=1)\n",
        "\n",
        "    # Add the correct length of the data\n",
        "    X_processed = X_processed[:, :max_sequence_length + 2]\n",
        "\n",
        "    # Pad to fixed shape\n",
        "    X_processed = np.pad(X_processed, ((0, 0), (0, fixed_shape - X_processed.shape[1])), mode='constant')\n",
        "\n",
        "    return X_processed\n",
        "\n",
        "\n",
        "def build_model(X_train, Y_train, tokenizer, max_sequence_length, fixed_shape):\n",
        "    # Preprocess training data\n",
        "    X_train_processed = CNN_preprocess_data(X_train, tokenizer, max_sequence_length, fixed_shape)\n",
        "\n",
        "    # Define model architecture with fixed input shape\n",
        "    embedding_dim = 60\n",
        "    input_layer = Input(shape=(fixed_shape, ))\n",
        "\n",
        "    embedding_layer = Embedding(len(tokenizer.word_index) + 1, embedding_dim)(input_layer)\n",
        "    conv_layer = Conv1D(filters=30, kernel_size=3, activation='relu')(embedding_layer)\n",
        "    pooling_layer = GlobalMaxPooling1D()(conv_layer)\n",
        "    dense_layer_1 = Dense(30, activation='relu')(pooling_layer)\n",
        "    output_layer = Dense(1, activation='sigmoid')(dense_layer_1)\n",
        "    model = Model(inputs=input_layer, outputs=output_layer)\n",
        "\n",
        "    # Compile the model\n",
        "    model.compile(loss='binary_crossentropy', optimizer = tf.keras.optimizers.Adam(learning_rate=0.001), metrics=['accuracy'])\n",
        "\n",
        "    # Train the model\n",
        "    model.fit(X_train_processed, Y_train, epochs=2, batch_size=32, validation_split=0.3)\n",
        "    \n",
        "    return model\n",
        "\n",
        "# Train the model\n",
        "tokenizer = Tokenizer()\n",
        "tokenizer.fit_on_texts(X_train['text'])\n",
        "max_sequence_length = 75\n",
        "fixed_shape = max_sequence_length + X_train['location'].nunique() + X_train['keyword'].nunique() + 1\n",
        "model_6 = build_model(X_train, Y_train, tokenizer, max_sequence_length, fixed_shape)"
      ],
      "metadata": {
        "id": "sA7P6-45NIqc"
      },
      "execution_count": null,
      "outputs": []
    },
    {
      "cell_type": "markdown",
      "source": [
        "#### **Model Evaluation**"
      ],
      "metadata": {
        "id": "sLLmQJyUqrQB"
      }
    },
    {
      "cell_type": "code",
      "source": [
        "# Preprocess training and validation data. Predicts probabilities and sets values to 1 or 0 based on the threshold of .5\n",
        "X_train_tokenized = CNN_preprocess_data(X_train, tokenizer, max_sequence_length, fixed_shape)\n",
        "train_prediction = model_6.predict(X_train_tokenized)\n",
        "train_prediction_binary = (train_prediction >= .5).astype(int)\n",
        "\n",
        "X_train_val_tokenized = CNN_preprocess_data(X_train_val, tokenizer, max_sequence_length, fixed_shape)\n",
        "val_train_prediction = model_6.predict(X_train_val_tokenized)\n",
        "val_train_prediction_binary = (val_train_prediction >= .5).astype(int)\n",
        "\n",
        "#Scores the training and validation predictions based on F1 metric\n",
        "score(model_6, train_prediction_binary, val_train_prediction_binary, predict=False)"
      ],
      "metadata": {
        "id": "MZtDfz-ZJDB_"
      },
      "execution_count": null,
      "outputs": []
    },
    {
      "cell_type": "markdown",
      "source": [
        "#### **Error Analysis**"
      ],
      "metadata": {
        "id": "s1jCFq-dJDB-"
      }
    },
    {
      "cell_type": "code",
      "source": [
        "# Call visualize errors to get an idea of what's going wrong with our model\n",
        "visualize_errors(Y_train_val, model_6.predict(X_train_val_tokenized).reshape(762,), .5)"
      ],
      "metadata": {
        "id": "y6Ub9puPJDB_"
      },
      "execution_count": null,
      "outputs": []
    },
    {
      "cell_type": "markdown",
      "source": [
        "**Analysis:**\n",
        "*   False Negatives appear to be abundant in this model. The ratio of False Negatives and False Positives is nearly 2:1.\n",
        "* This can be due to having the keywords weighted having a big sway to determine if a an actual disaster is marked as not a disaster."
      ],
      "metadata": {
        "id": "7AsOQWefJDB_"
      }
    },
    {
      "cell_type": "markdown",
      "source": [
        "##### *Fixes*\n",
        "* In general this model tends to overfit for the training data just like the CNN model 5. We can take the same precautions to mitigate overfitting by limiting epochs, adding dropout layers, and making each layer smaller.\n",
        "* Specifically for this model we can add weight decay to the weights associated to the keywords. This would help generalize more without having any heavy weights.\n",
        "* Also since there is a 2:1 ratio of False Negatives to False Positives, one measure we can consider is fine tuning the threshold on the predicted probabilities."
      ],
      "metadata": {
        "id": "L8AdVj5BJDB_"
      }
    },
    {
      "cell_type": "markdown",
      "source": [
        "#### **Results**"
      ],
      "metadata": {
        "id": "XfDr9J27JDB_"
      }
    },
    {
      "cell_type": "code",
      "source": [
        "# Preprocess test data\n",
        "X_test_tokenized = CNN_preprocess_data(X_test, tokenizer, max_sequence_length, fixed_shape)\n",
        "\n",
        "# Make predictions on test data\n",
        "X_test_prediction = model_6.predict(X_test_tokenized)\n",
        "X_test_prediction_binary = (X_test_prediction >= .45).astype(int)\n",
        "create_csv(X_test_prediction_binary, 'sub6.1')"
      ],
      "metadata": {
        "id": "VEx7rWO0JDB_"
      },
      "execution_count": null,
      "outputs": []
    },
    {
      "cell_type": "markdown",
      "source": [
        "Kaggle Test Score:\n"
      ],
      "metadata": {
        "id": "nBseGjM2JDCA"
      }
    },
    {
      "cell_type": "markdown",
      "source": [
        "![image.png](data:image/png;base64,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)"
      ],
      "metadata": {
        "id": "weqS-MeMz4n_"
      }
    },
    {
      "cell_type": "markdown",
      "source": [
        "<a name=\"Results\"></a>\n",
        "# **Final Results**\n",
        "\n",
        "| Model       | Version | Train Accuracy | Val Accuracy | Test F1 Score |\n",
        "| :-:         | :-      | :-:            | :-:          | :-:           |\n",
        "| Log. Reg.   | 1.0     |      0.8549    |      0.7638  |       0.7821  |\n",
        "|             | 2.0     |      0.8556    |    0.7607    |               |\n",
        "|             | 3.0     |        0.8548  |       0.7680 |               |\n",
        "|             | Fix     |       0.8734   |      0.7771  |               |\n",
        "| Rand. F.    | 1.0     |        0.9840  |        0.7433|      0.77505  |\n",
        "|             | 2.0     |          0.9841|       0.7593 |               |\n",
        "| Rand. F.    | LK      |    0.9049      |    0.7577    |    0.78976    |\n",
        "|             | RBF     |      0.9531    |    0.7587    |               |\n",
        "| Naïve Bayes | Multi   |      0.8633    |     0.7429   |     0.79098   |\n",
        "|             | Bern    |      0.8693    |     0.7529   |               |\n",
        "|             | Comp    |      0.8671    |     0.7469   |               |\n",
        "| CNN         | (1-Hot) |     0.8512     |      0.7169  |       0.79098 |\n",
        "|             |(W. Loss)|       0.8801   |       0.7465 |        0.80171|\n",
        "\n"
      ],
      "metadata": {
        "id": "k7NOBL66KnWN"
      }
    },
    {
      "cell_type": "markdown",
      "source": [
        "<a name=\"Conclusion\"></a>\n",
        "# ***Conclusion***"
      ],
      "metadata": {
        "id": "pxkLSUX4KIzs"
      }
    },
    {
      "cell_type": "markdown",
      "source": [
        "In this project, we explored six different machine learning models to classify tweets related to disasters. We trained the models on a dataset that consisted of text, keyword, and location features. The six models that we used were Logistic Regression, Random Forest, Support Vector Machines, Naive Bayes, Convolutional Neural Network (1-Hot encoding for Keyword and Location), and Convolutional Neural Network (Weighted Location and Keyword).\n",
        "\n",
        "Logistic Regression is a simple and fast algorithm used to predict binary outcomes. Random Forest is a popular ensemble learning method that combines multiple decision trees to improve accuracy. Support Vector Machines are a powerful algorithm that can efficiently classify data with complex boundaries. Naive Bayes is a probabilistic algorithm that makes assumptions about the independence of features.\n",
        "\n",
        "We used Convolutional Neural Networks (CNNs) to classify tweets based on their text, keyword, and location features. The first CNN model used one-hot encoding for location and keyword, which provided a sparse representation of the data. The second CNN model used weighted representations for location and keyword, which improved the performance of the model by providing more informative features.\n",
        "\n",
        "After comparing the performance of all six models, we found that the CNN with weighted location and keyword representations achieved the highest accuracy. This model was able to identify disaster-related tweets with an f1 accuracy of over 80%, outperforming the other models. The weighted representation of location and keyword allowed the model to capture more meaningful features and improve its ability to classify disaster-related tweets.\n",
        "\n",
        "Overall, our results demonstrate that using a combination of text, keyword, and location features can improve the accuracy of disaster classification models. The CNN with weighted location and keyword representations was the most effective model, and its performance can be further improved by optimizing the hyperparameters and exploring additional features."
      ],
      "metadata": {
        "id": "-ZM-bkOmpaaw"
      }
    }
  ],
  "metadata": {
    "colab": {
      "provenance": [],
      "include_colab_link": true
    },
    "kernelspec": {
      "display_name": "Python 3",
      "name": "python3"
    },
    "language_info": {
      "name": "python"
    }
  },
  "nbformat": 4,
  "nbformat_minor": 0
}